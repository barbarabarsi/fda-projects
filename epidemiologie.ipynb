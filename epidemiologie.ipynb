{
 "cells": [
  {
   "cell_type": "markdown",
   "id": "64cfe2e8",
   "metadata": {},
   "source": [
    "**Modèles épidémiologiques**\n",
    "-\n",
    "\n",
    "**Bárbara Barsi Duarte Batista da Silva**\n",
    "\n",
    "**Rafaela de Carvalho Machado Pinheiro**\n",
    "\n",
    "\n",
    "--- "
   ]
  },
  {
   "cell_type": "markdown",
   "id": "025407c4",
   "metadata": {},
   "source": [
    "## Contexte\n",
    "Il s'agit de voir les différences entre le modèle markovien et le modèle déterministe de la diffusion d'une épidémie. Vous devez rendre un fichier unique soit en pdf, soit en ipynb.\n",
    "\n",
    "## Ce que vous avez à faire\n",
    "- Ecrire un code qui résout et affiche le système déterministe SIR, prenant en entrée les paramètres beta et gamma (voir poly) \n",
    "- qui simule l'évolution du processus de Markov pour une population de N individus avec les mêmes paramètres beta et gamma\n",
    "- Trouver des couples de valeurs (beta,gamma) où\n",
    "    - tout le monde est retiré sur le long terme\n",
    "    - il y a une partie de la population qui reste susceptible et une autre qui est retirée\n",
    "- Illustrer sur des graphiques la convergence du processus de Markov renormalisé vers la solution du système déterministe\n"
   ]
  },
  {
   "cell_type": "markdown",
   "id": "d140d36c",
   "metadata": {},
   "source": [
    "### Markov Model"
   ]
  },
  {
   "cell_type": "markdown",
   "id": "7842c964",
   "metadata": {},
   "source": [
    "### SIR Model\n",
    "The SIR abbreviation stands for \"Susceptible, Infected, Recovered/Removed\", \n",
    "The deterministic SIR is a system of Ordinary Differential Equations:  \n",
    "$$\n",
    "\\frac{dS}{dt} = -\\beta S I\n",
    "$$\n",
    "$$\n",
    "\\frac{dI}{dt} = \\beta S I - \\gamma I\n",
    "$$\n",
    "$$\n",
    "\\frac{dR}{dt} = \\gamma I\n",
    "$$\n",
    "Where:\n",
    "\n",
    "- $S$: susceptible\n",
    "- $I$: infected\n",
    "- $R$: recovered (or removed)\n",
    "- $\\beta$: infection rate\n",
    "- $\\gamma$: recovery rate"
   ]
  },
  {
   "cell_type": "markdown",
   "id": "64d5e0d0",
   "metadata": {},
   "source": [
    "### Code"
   ]
  },
  {
   "cell_type": "code",
   "execution_count": 1,
   "id": "11452184",
   "metadata": {},
   "outputs": [
    {
     "name": "stdout",
     "output_type": "stream",
     "text": [
      "  dep        jour  incid_hosp  incid_rea  incid_dc  incid_rad\n",
      "0   1  2020-03-19           1          0         0          0\n",
      "1   1  2020-03-20           0          0         0          1\n",
      "2   1  2020-03-21           3          0         0          0\n",
      "3   1  2020-03-22           3          1         0          1\n",
      "4   1  2020-03-23          14          1         0          5\n"
     ]
    }
   ],
   "source": [
    "import pandas as pd\n",
    "\n",
    "data = pd.read_csv('donnees-covid.csv', sep=';')\n",
    "print(data.head())"
   ]
  },
  {
   "cell_type": "markdown",
   "id": "476796a3",
   "metadata": {},
   "source": [
    "---"
   ]
  },
  {
   "cell_type": "markdown",
   "id": "d99220d7",
   "metadata": {},
   "source": [
    "### Question ouverte avec différentes réponses possibles \n",
    "A partir des données de Santé Publique France, <https://www.data.gouv.fr/fr/datasets/donnees-hospitalieres-relatives-a-lepidemie-de-covid-19/>, notamment le fichier \"donnees_hospitalieres_nouveaux_covid19...\" qui comportent 4 colonnes : les hospitalisations (hos), les admissions en réanimation (rea), les décès (dc) et les retournés à la maison (rad) pour chaque jour et pour chaque département, **comment feriez-vous pour estimer gamma et beta sur un département donné ?**\n"
   ]
  }
 ],
 "metadata": {
  "kernelspec": {
   "display_name": "Python 3",
   "language": "python",
   "name": "python3"
  },
  "language_info": {
   "codemirror_mode": {
    "name": "ipython",
    "version": 3
   },
   "file_extension": ".py",
   "mimetype": "text/x-python",
   "name": "python",
   "nbconvert_exporter": "python",
   "pygments_lexer": "ipython3",
   "version": "3.11.5"
  }
 },
 "nbformat": 4,
 "nbformat_minor": 5
}
