{
 "cells": [
  {
   "cell_type": "markdown",
   "id": "64cfe2e8",
   "metadata": {},
   "source": [
    "**Modèles épidémiologiques**\n",
    "-\n",
    "\n",
    "**Bárbara Barsi Duarte Batista da Silva**\n",
    "\n",
    "**Rafaela de Carvalho Machado Pinheiro**\n",
    "\n",
    "\n",
    "--- "
   ]
  },
  {
   "cell_type": "markdown",
   "id": "50d556a2",
   "metadata": {},
   "source": [
    "**_Library import_**"
   ]
  },
  {
   "cell_type": "code",
   "execution_count": null,
   "id": "01ce20a2",
   "metadata": {},
   "outputs": [],
   "source": []
  },
  {
   "cell_type": "code",
   "execution_count": null,
   "id": "f57b9d91",
   "metadata": {},
   "outputs": [],
   "source": []
  },
  {
   "cell_type": "code",
   "execution_count": 30,
   "id": "a22b7ee5",
   "metadata": {},
   "outputs": [],
   "source": [
    "from scipy.integrate import odeint\n",
    "import numpy as np\n",
    "import matplotlib.pyplot as plt\n",
    "import pandas as pd\n",
    "import matplotlib.pyplot as plt\n",
    "import matplotlib.dates as mdates"
   ]
  },
  {
   "cell_type": "markdown",
   "id": "1450bedb",
   "metadata": {},
   "source": [
    "---"
   ]
  },
  {
   "cell_type": "markdown",
   "id": "025407c4",
   "metadata": {},
   "source": [
    "## Contexte\n",
    "Il s'agit de voir les différences entre le modèle markovien et le modèle déterministe de la diffusion d'une épidémie. Vous devez rendre un fichier unique soit en pdf, soit en ipynb.\n",
    "\n",
    "## Ce que vous avez à faire\n",
    "- Ecrire un code qui résout et affiche le système déterministe SIR, prenant en entrée les paramètres beta et gamma (voir poly) \n",
    "- qui simule l'évolution du processus de Markov pour une population de N individus avec les mêmes paramètres beta et gamma\n",
    "- Trouver des couples de valeurs (beta,gamma) où\n",
    "    - tout le monde est retiré sur le long terme\n",
    "    - il y a une partie de la population qui reste susceptible et une autre qui est retirée\n",
    "- Illustrer sur des graphiques la convergence du processus de Markov renormalisé vers la solution du système déterministe\n"
   ]
  },
  {
   "cell_type": "markdown",
   "id": "7842c964",
   "metadata": {},
   "source": [
    "### SIR Model\n",
    "The SIR model is widely used to estimate the spread of a disease through a population. In the model, the population is divided into 3 groups:\n",
    "- $S$, susceptible: individuals who are not infected but can catch the disease. The size of this group can only decrease, as recovered/dead individuals are counted for in the \"removed\" group.\n",
    "- $I$, infected: individuals who are currently infected and can transmit the disease to susceptibles. \n",
    "- $R$, removed: individuals who were infected and either recovered or died, meaning they do not transmit the disease anymore.\n",
    "\n",
    "The deterministic SIR uses a system of Ordinary Differential Equations to show how these three groups evolve over time:  \n",
    "  \n",
    "The first equation models the change in the susceptible group, as they become infected after meeting infected individuals. This rate is also influenced by the transmission/infection rate of the disease, called $\\beta$.\n",
    "$$\n",
    "\\frac{dS}{dt} =  -\\frac{\\beta S I}{N}\n",
    "$$\n",
    "\n",
    "The second equation shows the change in the infected group. This group increases as more susceptibles are infected, but it decreases as the infected recover/die with rate $\\gamma$.\n",
    "$$\n",
    "\\frac{dI}{dt} = \\frac{\\beta S I}{N}  - \\gamma I\n",
    "$$\n",
    "\n",
    "The last equation models the change in the removed group, which increases as infected individuals recover or die at rate $\\gamma$.\n",
    "$$\n",
    "\\frac{dR}{dt} = \\gamma I\n",
    "$$\n",
    "\n",
    "The total population is $N$, thus $S+I+R=N$. Since we do not consider births or deaths unrelated to the disease, the population size remains constant.  \n",
    "The initial value of $S$ is $N-I(0)$, as the whole population is susceptible except for infected individuals at first. Consequently, the initial value of $R$ is $0$."
   ]
  },
  {
   "cell_type": "markdown",
   "id": "3b6dc081",
   "metadata": {},
   "source": [
    "The given dataset uses the total count of hospitalizations, deaths and recoveries, so it is more intuitive to model the equations by dividing the total size of each group ($S,I, R$)  by $N$. However, another possible notation would be to use them as fractions, with respect to the time:\n",
    "\n",
    "$t$: $s(t)=S(t)/N \\rightarrow ds/dt = -\\beta s(t) i(t)$"
   ]
  },
  {
   "cell_type": "markdown",
   "id": "bc5504a0",
   "metadata": {},
   "source": [
    "First, we create a function to define the SIR system, using the equations above. We will use a list `y=[S(t), I(t), R(t)]` to simplify its parameters. Notice the `t` parameter and the `R` variables are not used directly in the function, they are stated to avoid conflicts when solving the ODE using the `odeint` function from the `Scipy` library (the function passed as the first parameter must receives all the other parameters of `odeint`, even if it is not going to use all of them)."
   ]
  },
  {
   "cell_type": "code",
   "execution_count": 31,
   "id": "187c92ec",
   "metadata": {},
   "outputs": [],
   "source": [
    "def deriv_sir(y, t, N, beta, gamma):\n",
    "    S, I, R = y\n",
    "    dSdt = -beta * S * I/N\n",
    "    dIdt = beta * S * I/N - gamma * I\n",
    "    dRdt = gamma * I\n",
    "    return dSdt, dIdt, dRdt"
   ]
  },
  {
   "cell_type": "markdown",
   "id": "34779779",
   "metadata": {},
   "source": [
    "The following function sets the initial values for each group, then solves the ODEs system using the `odeint` function. This returns the values of $S, I, R$ in a vector, which is then transposed and stored into the S, I and R variables."
   ]
  },
  {
   "cell_type": "code",
   "execution_count": 32,
   "id": "ddf2dbfa",
   "metadata": {},
   "outputs": [],
   "source": [
    "def SIR(beta, gamma, N):\n",
    "    I0 = 1\n",
    "    S0 = N - I0\n",
    "    R0 = 0\n",
    "\n",
    "    # time points in days\n",
    "    t = np.linspace(0, 100, 100)\n",
    "    y = S0, I0, R0\n",
    "\n",
    "\n",
    "    res = odeint(deriv_sir, y, t, args=(N, beta, gamma)) # solve ODEs\n",
    "    S, I, R = res.T\n",
    "\n",
    "    return S, I, R, t\n"
   ]
  },
  {
   "cell_type": "code",
   "execution_count": 33,
   "id": "4f2056d2",
   "metadata": {},
   "outputs": [],
   "source": [
    "# plot simulation results\n",
    "def plot_sir(S, I, R, t):\n",
    "    plt.figure(figsize=(10, 6))\n",
    "    plt.plot(t, S, label='Susceptible')\n",
    "    plt.plot(t, I, label='Infected')\n",
    "    plt.plot(t, R, label='Removed')\n",
    "    plt.xlabel('Time (days)')\n",
    "    plt.ylabel('Population')\n",
    "    plt.title('SIR Model Simulation')\n",
    "    plt.legend()\n",
    "    plt.grid()\n",
    "    plt.show()"
   ]
  },
  {
   "cell_type": "code",
   "execution_count": 34,
   "id": "a14327da",
   "metadata": {},
   "outputs": [],
   "source": [
    "# run the simulation\n",
    "beta = 0.3  # infection rate\n",
    "gamma = 0.1  # recovery rate\n",
    "N = 10000  # total population\n",
    "\n",
    "S, I, R, t = SIR(beta, gamma, N)\n",
    "plot_sir(S, I, R, t)"
   ]
  },
  {
   "cell_type": "markdown",
   "id": "c9a7c00c",
   "metadata": {},
   "source": [
    "### Markov Model\n",
    "The Markovian model describes the spread of a disease in a stochastic way, unlike the deterministic SIR model. Similar to the previous model, the states of the system are now defined by the number of susceptible individuals $S$, the number of infected individuals $I$, and the number of removed individuals $R$. However, their evolution is determined by random events - new infections and new removals - which happend at random exponentially distibuted times.  \n",
    "At any moment, we have:  \n",
    "- The infection rate, proportional to the number of susceptible and infected individuals\n",
    "$$\n",
    "\\lambda_{inf} = \\beta \\frac{SI}{N}\n",
    "$$\n",
    "where $\\beta$ is the infection rate\n",
    "- The recovery rate, proportional to the number of infected individuals\n",
    "$$\n",
    "\\lambda_{rec} = \\frac{\\lambda}{N}\n",
    "$$\n",
    "where $\\lambda$ is the recovery rate  \n",
    "Thus, the total rate is $\\lambda = \\lambda_{inf} + \\lambda_{rec}$"
   ]
  },
  {
   "cell_type": "code",
   "execution_count": 35,
   "id": "9f764f94",
   "metadata": {},
   "outputs": [],
   "source": [
    "def exp(lamb):\n",
    "    U = np.random.rand()\n",
    "    return - np.log(U) / lamb"
   ]
  },
  {
   "cell_type": "markdown",
   "id": "476796a3",
   "metadata": {},
   "source": [
    "---"
   ]
  },
  {
   "cell_type": "markdown",
   "id": "d99220d7",
   "metadata": {},
   "source": [
    "### Question ouverte avec différentes réponses possibles \n",
    "A partir des données de Santé Publique France, <https://www.data.gouv.fr/fr/datasets/donnees-hospitalieres-relatives-a-lepidemie-de-covid-19/>, notamment le fichier \"donnees_hospitalieres_nouveaux_covid19...\" qui comportent 4 colonnes : les hospitalisations (hos), les admissions en réanimation (rea), les décès (dc) et les retournés à la maison (rad) pour chaque jour et pour chaque département, **comment feriez-vous pour estimer gamma et beta sur un département donné ?**\n"
   ]
  },
  {
   "cell_type": "markdown",
   "id": "64d5e0d0",
   "metadata": {},
   "source": [
    "### Code"
   ]
  },
  {
   "cell_type": "markdown",
   "id": "28446f38",
   "metadata": {},
   "source": [
    "The information retrieved Santé Publique France is stored in a `.csv`, so we are going to use the Python library `pandas` to visualize and manipulate the data."
   ]
  },
  {
   "cell_type": "code",
   "execution_count": 36,
   "id": "11452184",
   "metadata": {},
   "outputs": [],
   "source": [
    "data = pd.read_csv('donnees-covid.csv', sep=';')\n",
    "print(data.head())"
   ]
  },
  {
   "cell_type": "markdown",
   "id": "98538ce1",
   "metadata": {},
   "source": [
    "In order to guide all the upcoming analysis, we regoing to focus specifically at the Paris département, with the code 75. "
   ]
  },
  {
   "cell_type": "code",
   "execution_count": 37,
   "id": "90880755",
   "metadata": {},
   "outputs": [],
   "source": [
    "dep = '75'\n",
    "\n",
    "data_plot = data[['dep', 'jour', 'incid_hosp', 'incid_rea', 'incid_dc', 'incid_rad']].copy()\n",
    "data_plot = data_plot[data_plot.dep == dep]\n",
    "data_plot['jour'] = pd.to_datetime(data_plot['jour'], format='%Y-%m-%d')\n",
    "data_plot.set_index('jour', inplace=True)\n",
    "data_plot = data_plot.sort_index()\n",
    "# data_plot = data_plot.resample('D').sum()\n",
    "\n",
    "plt.figure(figsize=(12, 6))\n",
    "plt.plot(data_plot.index, data_plot['incid_hosp'], label='Hopitalisations')\n",
    "plt.plot(data_plot.index, data_plot['incid_rea'], label='Reanimations')\n",
    "plt.plot(data_plot.index, data_plot['incid_dc'], label='Décès')\n",
    "plt.plot(data_plot.index, data_plot['incid_rad'], label='Maison')\n",
    "\n",
    "plt.gca().xaxis.set_major_locator(mdates.MonthLocator())  \n",
    "plt.gca().xaxis.set_major_formatter(mdates.DateFormatter('%b %Y'))  # format as \"Mar 2020\" etc\n",
    "plt.gcf().autofmt_xdate()  \n",
    "\n",
    "\n",
    "plt.title(f'Covid-19 Incidents in département {dep}')\n",
    "plt.grid(True)\n",
    "plt.legend()\n",
    "plt.show()"
   ]
  }
 ],
 "metadata": {
  "kernelspec": {
   "display_name": "Python 3",
   "language": "python",
   "name": "python3"
  },
  "language_info": {
   "codemirror_mode": {
    "name": "ipython",
    "version": 3
   },
   "file_extension": ".py",
   "mimetype": "text/x-python",
   "name": "python",
   "nbconvert_exporter": "python",
   "pygments_lexer": "ipython3",
   "version": "3.11.5"
  }
 },
 "nbformat": 4,
 "nbformat_minor": 5
}
