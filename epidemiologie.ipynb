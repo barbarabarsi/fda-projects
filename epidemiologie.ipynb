{
 "cells": [
  {
   "cell_type": "markdown",
   "id": "64cfe2e8",
   "metadata": {},
   "source": [
    "**Modèles épidémiologiques**\n",
    "-\n",
    "\n",
    "**Bárbara Barsi Duarte Batista da Silva**\n",
    "\n",
    "**Rafaela de Carvalho Machado Pinheiro**\n",
    "\n",
    "\n",
    "--- "
   ]
  },
  {
   "cell_type": "markdown",
   "id": "025407c4",
   "metadata": {},
   "source": [
    "### Contexte\n",
    "Il s'agit de voir les différences entre le modèle markovien et le modèle déterministe de la diffusion d'une épidémie. Vous devez rendre un fichier unique soit en pdf, soit en ipynb.\n",
    "\n",
    "### Ce que vous avez à faire\n",
    "- Ecrire un code qui résout et affiche le système déterministe SIR, prenant en entrée les paramètres beta et gamma (voir poly)\n",
    "- qui simule l'évolution du processus de Markov pour une population de N individus avec les mêmes paramètres beta et gamma\n",
    "- Trouver des couples de valeurs (beta,gamma) où\n",
    "    - tout le monde est retiré sur le long terme\n",
    "    - il y a une partie de la population qui reste susceptible et une autre qui est retirée\n",
    "- Illustrer sur des graphiques la convergence du processus de Markov renormalisé vers la solution du système déterministe\n"
   ]
  },
  {
   "cell_type": "markdown",
   "id": "476796a3",
   "metadata": {},
   "source": [
    "---"
   ]
  },
  {
   "cell_type": "markdown",
   "id": "d99220d7",
   "metadata": {},
   "source": [
    "### Question ouverte avec différentes réponses possibles \n",
    "A partir des données de Santé Publique France, <https://www.data.gouv.fr/fr/datasets/donnees-hospitalieres-relatives-a-lepidemie-de-covid-19/>, notamment le fichier \"donnees_hospitalieres_nouveaux_covid19...\" qui comportent 4 colonnes : les hospitalisations (hos), les admissions en réanimation (rea), les décès (dc) et les retournés à la maison (rad) pour chaque jour et pour chaque département, **comment feriez-vous pour estimer gamma et beta sur un département donné ?**\n"
   ]
  }
 ],
 "metadata": {
  "language_info": {
   "name": "python"
  }
 },
 "nbformat": 4,
 "nbformat_minor": 5
}
