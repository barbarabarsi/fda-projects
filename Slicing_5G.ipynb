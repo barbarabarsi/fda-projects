{
 "cells": [
  {
   "cell_type": "markdown",
   "metadata": {},
   "source": [
    "**Modélisation du slicing dans les réseaux 5G**\n",
    "-\n",
    "\n",
    "**Bárbara Barsi Duarte Batista da Silva**\n",
    "\n",
    "**Rafaela de Carvalho Machado Pinheiro**\n",
    "\n",
    "\n",
    "--- "
   ]
  },
  {
   "cell_type": "markdown",
   "metadata": {},
   "source": [
    "## Introduction\n",
    "La 5G permet de déployer des réseaux virtuels de bout en bout, avec des profils de qualité de service (QoS) spécifiques, au-dessus d’une infrastructure physique commune. Le slicing est le terme utilisé pour désigner la fonctionnalité qui rend cette coexistence possible. Chaque réseau virtuel déployé est appelé une tranche dans la terminologie de la 5G. Le découpage en tranches est particulièrement difficile à dimensionner pour respecter les contraintes de qualité de service des tranches. Par exemple, des tranches telles que le haut débit mobile amélioré (eMBB) et les communications ultra fiables à faible latence (URLLC) ont des exigences contradictoires en matière de qualité de service.  \n",
    "On s’intéresse ici à deux types distincts : les flux URLLC et eMMB. Les premiers sont des flux qui doivent être ultra-fiables et avec une faible latence. Traduit en langage de files d’attente, cela signifie que la perte doit être infime et qu’on ne peut pas se permettre de les retarder par une mise en buffer.  \n",
    "Pour les flux, eMMB, comme d’habitude, ils passent quand ils peuvent même si nor malement, ils ne devraient pas souffrir de trop de délai.  \n",
    "Toute la difficulté est de rtouver un moyen physique qui permette de réaliser cette priorisation tout en étant capable d’en étudier les performances pour dimensionner les ressources.  \n",
    "Dans un premier temps, nous regardons un modèle théorique qui s’étudie relativement bien. Dans un deuxième temps, nous envisagerons un modèle plus réaliste à mettre en oeuvre mais qui s’étudie plus difficilement."
   ]
  },
  {
   "cell_type": "markdown",
   "metadata": {},
   "source": [
    "--- "
   ]
  },
  {
   "cell_type": "markdown",
   "metadata": {},
   "source": [
    "## 2. Préliminaires\n",
    "\n",
    "On rappelle que la formule d’Erlang-B donne la probabilité que \\( S \\) serveurs soient occupés à l’état stationnaire :\n",
    "\n",
    "$$\n",
    "ErlB[\\rho, S] = \\frac{\\rho^S}{S! \\sum_{j=0}^{S} \\frac{\\rho^j}{j!}}\n",
    "$$\n",
    "\n",
    "On a la relation de récurrence :\n",
    "\n",
    "$$\n",
    "\\frac{1}{ErlB[\\rho, 0]} = 1\n",
    "$$\n",
    "\n",
    "$$\n",
    "\\frac{1}{ErlB[\\rho, S]} = 1 + \\frac{S}{\\rho\\cdot ErlB[\\rho, S-1]}\n",
    "$$\n",
    "\n",
    "### Partie 1\n",
    "1. **Écrire une fonction Python qui renvoie le nombre moyen de clients dans une file M/M/S/S à l’état stationnaire sans calculer de factorielle.**"
   ]
  },
  {
   "cell_type": "markdown",
   "metadata": {},
   "source": [
    "> Para realizarmos esse cálculo, podemos realizar o cálculo de $\\mathbb{E[N]}$, sendo N o número médio de clientes. Como a fórmula da esperança pode ser descrita da forma\n",
    ">\n",
    "> $$ \\mathbb{E}[N] = \\sum_{n \\in \\mathbb{N}} n \\cdot \\mathbb{P}(N = n) $$\n",
    "> \n",
    "> e a probabilidade de termos N clientes é no sistema é a mesma de termos N servidores ocupados (já que não há fila de espera), é possível afirmar que o valor de $\\mathbb{P}(N = n)$ no estado estacionário se assemelha a $ErlB[\\rho, n]$. \n",
    ">\n",
    "> Como a inversa de Erlang-B pode ser descrita por uma relação de recorrência, podemos manipular tais equações a fim de obter uma relação de recorrência para $ErlB[\\rho, N]$. Efetuando as manipulações, temos:\n",
    ">\n",
    "> $$ ErlB[\\rho, 0] = 1 $$\n",
    "> \n",
    "> $$ ErlB[\\rho, N] = \\frac{1}{1 + \\frac{N}{\\rho\\cdot ErlB[\\rho, N-1]}} $$\n",
    ">\n",
    "> \n",
    "> Com isso, o cálculo do somatório da esperança pode ser calculado utilizando recorrência em $ErlB[\\rho, N]$.\n",
    "> \n",
    "> $$ \\mathbb{E}[N] = \\sum_{n \\in \\mathbb{N}} n \\cdot ErlB[\\rho, n]$$"
   ]
  },
  {
   "cell_type": "code",
   "execution_count": null,
   "metadata": {},
   "outputs": [],
   "source": [
    "def erlang_b(p, nb_of_servers):\n",
    "\n",
    "    if (nb_of_servers == 0): return 1 \n",
    "\n",
    "    return 1/(1 + (nb_of_servers / (p * erlang_b(p, nb_of_servers - 1))))\n",
    "\n",
    "def mean_number_waiting_customers(arrival_rate, service_rate, nb_of_servers):\n",
    "\n",
    "    p = arrival_rate / service_rate\n",
    "\n",
    "    if (nb_of_servers == 1): return 1/(1 + (nb_of_servers/p))\n",
    "\n",
    "    mean = (nb_of_servers * erlang_b(p, nb_of_servers)) + mean_number_waiting_customers(arrival_rate, service_rate, nb_of_servers - 1)\n",
    "\n",
    "    return mean"
   ]
  },
  {
   "cell_type": "code",
   "execution_count": 110,
   "metadata": {},
   "outputs": [
    {
     "name": "stdout",
     "output_type": "stream",
     "text": [
      "rho = 0.5, S = 4\n",
      "Erl_B = 0.0016\n",
      "mean clients = 0.5315\n"
     ]
    }
   ],
   "source": [
    "S = 4\n",
    "lamb = 6\n",
    "mu = 12\n",
    "\n",
    "rho = lamb / mu\n",
    "\n",
    "print(f\"{rho = }, {S = }\")\n",
    "print(f\"Erl_B = {erlang_b(rho, S):.4f}\")\n",
    "print(f\"mean clients = {mean_number_waiting_customers(lamb, mu, S):.4f}\")"
   ]
  },
  {
   "cell_type": "markdown",
   "metadata": {},
   "source": [
    "2. **Pour un choix de paramètre $\\rho$ et $S$ tels que $ErlB[\\rho, S]$ soit petit (de l’ordre de $10^{-3}$), qu’est-ce que l’on remarque à propos du nombre moyen de clients ?**  \n",
    "Expliquer ce phénomène en vous aidant des résultats connus sur la M/M/$\\infty$."
   ]
  },
  {
   "cell_type": "markdown",
   "metadata": {},
   "source": [
    "> &nbsp;\n",
    "> \n",
    "> Considerando que o $ErlB[\\rho, S]$ tenha um valor consideravelmente baixo, podemos supor que o sistema tem uma média $\\rho$ de clientes em seu estado estacionário. Podemos afirmar isso com base na similaridade do comportamento desse sistema com o que vemos no caso de uma modelagem M/M/$\\infty$. Com um valor baixo de Erlang-B, sabemos que o sistema consegue atender os clientes com uma probabilidade significantemente baixa de nenhum dos $S$ servidores estarem disponíveis, enquanto no caso de infinitos servidores, a probabilidade de bloqueio de serviço é nula justamente pela a infinidade de servidores nas quais os clientes podem ser servidos.\n",
    "> \n",
    "> Como temos uma baixa chance de não existirem servidores livres para atendimento, o número médio de clientes no sistema passa a ser guiado pelo tempo de chega e de serviço (ou seja, $\\lambda/\\mu  = \\rho$), e não mais pelo eventual bloqueio de um sistema esgotado. \n",
    "> \n",
    "> &nbsp;"
   ]
  },
  {
   "cell_type": "markdown",
   "metadata": {},
   "source": [
    "--- "
   ]
  },
  {
   "cell_type": "markdown",
   "metadata": {},
   "source": [
    "## 3. Modélisation\n",
    "\n",
    "On suit le modèle proposé dans [1] qui n’est pas implémentable dans un système réel mais qui s’analyse mathématiquement très bien.\n",
    "\n",
    "On considère une file d’attente avec un buffer infini et $ S $ serveurs. Il y a deux classes de clients de type 1 et de type 2. Les clients de type 1 ont une priorité plus élevée que les clients de type 2. Les clients de type 1 arrivent selon un processus de Poisson de paramètre $ \\lambda_1 $ et les clients de type 2 arrivent selon un processus de Poisson de paramètre $ \\lambda_2 $. Les clients de type 1 ont une durée de service exponentielle de paramètre $ \\mu_1 $ et les clients de type 2 ont une durée de service exponentielle de paramètre $ \\mu_2 $.\n",
    "\n",
    "Les clients de type 1 ne peuvent pas être bufferisés et doivent être servis immédiatement. Les clients de type 2 peuvent être bufferisés. On suppose que la capacité de la file d’attente est infinie.\n",
    "\n",
    "Les clients de classe 1 préemptent les serveurs : s’il reste des serveurs libres, ils s’y mettent normalement mais si tous les serveurs sont pris, ils prennent la place d’un client de classe 2. Celui-ci se retrouve dans le buffer et reprendra son service, là où il en était, dès qu’un serveur se libérera. S’il n’y a que des clients de classe 1 en service, le client de type 1 qui arrive est perdu.\n",
    "\n",
    "Les clients de classe 2 ne peuvent accéder à un serveur que s’il y en a de libre. S’ils arrivent et qu’il n’y a pas de serveur libre, ils sont mis dans le buffer.\n",
    "\n",
    "On note $ Q_1 $ le nombre de clients de type 1 dans le système et $ Q_2 $ le nombre de clients de type 2 dans le système. On note $ S_1 $ le nombre de serveurs occupés par des clients de type 1 et $ S_2 $ le nombre de serveurs occupés par des clients de type 2. On note $ B $ le nombre de clients de type 2 dans le buffer.\n"
   ]
  },
  {
   "cell_type": "markdown",
   "metadata": {},
   "source": [
    "### Partie 2\n",
    "\n",
    "1. **Quelles sont les contraintes sur les variables d’état du système et comment les variables $ Q_2 $, $ S_2 $ et $ B $ sont-elles reliées ?**  \n",
    "   Expliquer en particulier pourquoi $ Q_1 + S_2 < S $ ne peut se produire que si $ B = 0 $."
   ]
  },
  {
   "cell_type": "markdown",
   "metadata": {},
   "source": [
    "> &nbsp;\n",
    "> \n",
    "> $Q_2$ is the number of clients of class 2; $S_2$ is the number of servers currently occupied by class 2 clients; $B$ is the occupied buffer, which can only be occupied by class 2 clients, thus it is the number of class 2 clients waiting to be served.  \n",
    "> From these definitions, we get the following relations:  \n",
    "> - $S_1 = Q_1$: Type 1 clients do not stay in the buffer, thus every type 1 client in the system is being served.\n",
    "> - **$S_2 \\leq Q_2$**: Since $Q_2 $ is the total number of clients in system, it includes clients in the buffer and clients being served $S_2$. Thus, the number of class 2 clients being served $S_2$ can never exceed the total amount of class 2 clients in the system $Q_2$\n",
    "> - **$B \\leq Q_2$**: Similarly, the number of class 2 clients waiting in the buffer can never be larger than the total amount of class 2 clients in the whole system, because they are the only ones sent to the buffer - as class 1 clients do not wait.\n",
    "> - **$Q_2 = S_2 + B$**: Only class 2 clients stay in the buffer, so they can eiter be in the buffer or being served.  \n",
    "> \n",
    "> With that, $Q_1 + S_2 < S$ implies $B=0$: The buffer will only be empty ($B=0$) if all class 2 clients are being served. Since class 1 clients cannot wait and are served immediately, we have $Q_1 = S_1$, thus we can rewrite the statement as $S_1 + S_2 < S$. This means there are unoccupied servers, thus there would not be any clients in the buffer.\n",
    "> \n",
    "> &nbsp;"
   ]
  },
  {
   "cell_type": "markdown",
   "metadata": {},
   "source": [
    "\n",
    "2. **Montrer que le processus $ Q_1 $ est un processus de Markov et reconnaître sa dynamique comme celle d’une file simple dont on précisera les caractéristiques.**"
   ]
  },
  {
   "cell_type": "markdown",
   "metadata": {},
   "source": [
    "> &nbsp;\n",
    "> \n",
    "> According to the statement, the arrival of class 1 clients follows a Poisson process with parameter $\\lambda_1$ and the duration of their services is exponential with parameter $\\mu_1$. Type 1 clients do not wait in the buffer and are served right away as they can preempt servers occupied by type 2 clients. Therefore, all $S$ servers are available to type 1 clients.  \n",
    "> We can model this problem as a Markov process of queue $M/M/S/S$ with the following transition matrix:\n",
    "> $$\n",
    "\\mathbf{Q} = \\begin{pmatrix}\n",
    "-\\lambda_1 & \\lambda_1 & 0 & \\cdots & 0 & 0 \\\\\n",
    "\\mu_1 & -(\\lambda_1 + \\mu_1) & \\lambda_1 & \\cdots & 0 & 0 \\\\\n",
    "0 & 2\\mu_1 & -(\\lambda_1 + 2\\mu_1) & \\ddots & 0 & 0 \\\\\n",
    "\\vdots & \\vdots & \\ddots & \\ddots & \\lambda_1 & 0 \\\\\n",
    "0 & 0 & \\cdots & (S-1)\\mu_1 & -[\\lambda_1 + (S-1)\\mu_1] & \\lambda_1 \\\\\n",
    "0 & 0 & \\cdots & 0 & S\\mu_1 & -S\\mu_1\n",
    "\\end{pmatrix}\n",
    "> $$\n",
    "> &nbsp;\n",
    "\n",
    "\n",
    "> Podemos modelar o processo Q1 como um sistema M/M/S/S, considerando uma taxa de chegada exponencial de parâmetro $\\lambda_1$ e uma taxa de serviço também exponencial de parâmetro $\\mu_1$. A parte de caracterização do sistema como S/S se dá devido a impossibilidade dos clientes do tipo 1 se abrigarem no buffer, mas poderem impedir o atendimento de um cliente do tipo 2 para iniciarem os seus próprios (o que garante que todos os $S$ servidores estão a disponibilidade de um cliente do tipo 1 caso estejam livres).\n",
    "> Dessa forma, temos que a transição de estados pode ser descrita pela matriz a seguir:  \n",
    "> $$\n",
    "\\mathbf{Q} = \\begin{pmatrix}\n",
    "-\\lambda_1 & \\lambda_1 & 0 & \\cdots & 0 & 0 \\\\\n",
    "\\mu_1 & -(\\lambda_1 + \\mu_1) & \\lambda_1 & \\cdots & 0 & 0 \\\\\n",
    "0 & 2\\mu_1 & -(\\lambda_1 + 2\\mu_1) & \\ddots & 0 & 0 \\\\\n",
    "\\vdots & \\vdots & \\ddots & \\ddots & \\lambda_1 & 0 \\\\\n",
    "0 & 0 & \\cdots & (S-1)\\mu_1 & -[\\lambda_1 + (S-1)\\mu_1] & \\lambda_1 \\\\\n",
    "0 & 0 & \\cdots & 0 & S\\mu_1 & -S\\mu_1\n",
    "\\end{pmatrix}\n",
    "$$\n",
    "> &nbsp;\n",
    "> _**Obs: melhorar resposta, teoricamente ainda está meio fraca (um pouco amparada em intuição e pouca prova matemática)**_\n",
    "\n"
   ]
  },
  {
   "cell_type": "markdown",
   "metadata": {},
   "source": [
    "\n",
    "3. **Écrire les transitions possibles du processus de Markov ($Q_1$, $Q_2$).**  \n",
    "   Montrer en particulier que le taux de transition de l’état $ (q_1, q_2) $ à l’état $ (q_1, q_2-1) $ est donné par :\n",
    "   $$\\min\\{q_2, S - q_1\\} \\mu_2$$\n"
   ]
  },
  {
   "cell_type": "markdown",
   "metadata": {},
   "source": [
    "> &nbsp;\n",
    "> al There are 4 possible transitions:e\n",
    "> - $(q_1, q_2) \\rightarrow (q_1+1, q_2)$, when a class 1 client arrives with rate $\\lambda_1$\n",
    "> - $(q_1, q_2) \\rightarrow (q_1, q_2+1)$, when a class 2 client arrives with rate $\\lambda_2$\n",
    "> - $(q_1, q_2) \\rightarrow (q_1-1, q_2)$, when a class 1 client leaves with rate $q_1\\mu_1$\n",
    "> - $(q_1, q_2) \\rightarrow (q_1, q_2-1)$, when a class 2 client leaves with rate $min\\{q_1, S - q_1\\}\\mu_2$\n",
    "> \n",
    "> Since type 1 clients can preemt servers serving type 2 clients at any time, we have $S-Q_1$ as the amount of available servers + the amount of servers occupied by type 2 clients, then at most $S-Q_1$ $(Q_2 < S-Q_1)$. This can be rewritten as $Q_1 + Q_2 < S$, and as we proved above, $Q_1 + Q_2 < S \\rightarrow B = 0$, which means there are no clients in the buffer, they are all being served ($Q_2 = S_2$)\n",
    "> Since type 1 clients can preemt servers serving type 2 clients at any time, we have $S-Q_1$ as the amount of available servers to serve type 2 clients, thus $Q_2 < S-Q_1$. This can be rewritten as $Q_1 + Q_2 < S$, and as we proved above, $Q_1 + Q_2 < S \\rightarrow B = 0$, which means there are no clients in the buffer, they are all being served ($Q_2 = S_2$)\n",
    "> &nbsp; responder!\n",
    "</div>"
   ]
  },
  {
   "cell_type": "markdown",
   "metadata": {},
   "source": [
    "   \n",
    "4. **Simuler l’évolution de ce système en Python.**  \n",
    "   On prendra comme valeurs $ S = 10, \\mu_1 = 2, \\mu_2 = 1, \\lambda_1 = 4, \\lambda_2 = 3 $.\n",
    "\n",
    "   On note $ (x_1, x_2) $ le processus ainsi construit. On vérifiera notamment que :\n",
    "\n",
    "$$\n",
    "\\frac{1}{T} \\int_0^T 1\\{S\\}(x_1(s)) \\, ds \\longrightarrow \\frac{\\rho S_1}{S! \\sum_{j=0}^{S} \\frac{\\rho^j}{j!}} \\quad \\text{lorsque} \\quad T \\rightarrow \\infty\n",
    "$$"
   ]
  },
  {
   "cell_type": "code",
   "execution_count": 107,
   "metadata": {},
   "outputs": [],
   "source": [
    "def erlang_b(arrival_rate, service_rate, nb_of_servers):\n",
    "\n",
    "    if (nb_of_servers == 0): return 1 \n",
    "    p = arrival_rate / service_rate\n",
    "\n",
    "    return 1/(1 + (nb_of_servers / (p * erlang_b(arrival_rate, service_rate, nb_of_servers - 1))))"
   ]
  },
  {
   "cell_type": "code",
   "execution_count": 108,
   "metadata": {},
   "outputs": [
    {
     "name": "stdout",
     "output_type": "stream",
     "text": [
      "Porcentagem do tempo com todos servidores ocupados: 28.25%\n",
      "Porcentagem do tempo com todos servidores ocupados (Erlang B): 28.22%\n"
     ]
    }
   ],
   "source": [
    "import numpy as np\n",
    "\n",
    "def simple_simulation(S, mu, lambda_, T):\n",
    "\n",
    "    # Tempo atual e tempo acumulado com todos servidores ocupados\n",
    "    current_time = 0\n",
    "    busy_time = 0\n",
    "    \n",
    "    # Tempos de liberação de cada servidor (inicialmente todos livres)\n",
    "    servers = np.zeros(S)\n",
    "    \n",
    "    # Gerar tempos entre chegadas e tempos de serviço\n",
    "    inter_arrivals = np.random.exponential(1/lambda_, size=int(2*lambda_*T))\n",
    "    arrival_times = np.cumsum(inter_arrivals)\n",
    "    service_times = np.random.exponential(1/mu, size=len(inter_arrivals))\n",
    "    \n",
    "    # Processar cada chegada\n",
    "    for arrival, service in zip(arrival_times, service_times):\n",
    "        if arrival > T:\n",
    "            break  # Termina a simulação\n",
    "        \n",
    "        # Atualizar tempo com todos servidores ocupados\n",
    "        if np.all(servers > current_time):\n",
    "            busy_time += min(arrival, min(servers)) - current_time\n",
    "        \n",
    "        current_time = arrival\n",
    "        \n",
    "        # Liberar servidores que terminaram\n",
    "        servers = np.where(servers <= current_time, 0, servers)\n",
    "        \n",
    "        # Verificar se há servidor disponível\n",
    "        free_server = np.argmin(servers)\n",
    "        \n",
    "        if servers[free_server] <= current_time:\n",
    "            # Atribuir ao servidor livre\n",
    "            servers[free_server] = current_time + service\n",
    "        else:\n",
    "            # Todos servidores ocupados - cliente bloqueado\n",
    "            pass\n",
    "    \n",
    "    # Atualizar tempo final com todos servidores ocupados\n",
    "    if np.all(servers > current_time) and current_time < T:\n",
    "        busy_time += min(T, min(servers)) - current_time\n",
    "    \n",
    "    # Calcular porcentagem\n",
    "    percentage_busy = (busy_time / T) * 100\n",
    "    \n",
    "    return percentage_busy\n",
    "\n",
    "# Exemplo de uso:\n",
    "S = 3           # Número de servidores\n",
    "mu = 2          # Taxa de serviço (clientes/unidade tempo)\n",
    "lambda_ = 5     # Taxa de chegada (clientes/unidade tempo)\n",
    "T = 10000       # Tempo total de simulação\n",
    "\n",
    "percent_busy = simple_simulation(S, mu, lambda_, T)\n",
    "print(f\"Porcentagem do tempo com todos servidores ocupados: {percent_busy:.2f}%\")\n",
    "print(f\"Porcentagem do tempo com todos servidores ocupados (Erlang B): {erlang_b(lambda_, mu, S)*100:.2f}%\")"
   ]
  },
  {
   "cell_type": "markdown",
   "metadata": {},
   "source": [
    "---"
   ]
  },
  {
   "cell_type": "markdown",
   "metadata": {},
   "source": [
    "## 4. Stationnarité\n",
    "\n",
    "Il est montré dans [1] que ce système admet un régime stationnaire si et seulement si :\n",
    "\n",
    "$$\n",
    "\\rho_2 + \\frac{1}{\\sum_{j=0}^{S} \\frac{\\rho^j}{j!}} \\sum_{k=0}^{S} \\frac{k \\rho_1^k}{k!} < S\n",
    "$$\n",
    "\n",
    "où $ \\rho_i = \\frac{\\lambda_i}{\\mu_i} $.\n",
    "\n",
    "### Partie 3\n",
    "\n",
    "1. **Illustrer ce résultat par simulation. Serait-il possible de deviner (2) par simulation ?**\n"
   ]
  },
  {
   "cell_type": "markdown",
   "metadata": {},
   "source": [
    "---"
   ]
  },
  {
   "cell_type": "markdown",
   "metadata": {},
   "source": [
    "## 5. Calcul de la probabilité stationnaire\n",
    "\n",
    "En s’aidant de la section 6 de [1], on veut calculer la probabilité stationnaire $ \\pi $ de notre système sous réserve que (2) soit satisfaite. Par définition, $ \\pi $ est un vecteur de taille infinie indexée par les valeurs possibles de $ (q_1, q_2) $. On numérote les états $ (q_1, q_2) $ en ordre lexicographique à droite :\n",
    "\n",
    "$ (0, 0) \\prec (1, 0) \\prec \\dots \\prec (S, 0) \\prec (0, 1) \\prec \\dots \\prec (S, 1) \\prec \\dots $\n",
    "\n",
    "et on forme les vecteurs ligne à $ S + 1 $ coordonnées\n",
    "\n",
    "$$\n",
    "x_i = (\\pi(0,i), \\pi(1,i), \\dots, \\pi(S,i))\n",
    "$$\n",
    "\n",
    "On note $ M $ la matrice $ (S+1) \\times (S+1) $ qui correspond au générateur d’une file M/M/S/S de paramètres $ \\lambda_1 $ et $ \\mu_1 $. Le générateur de $ (Q_1, Q_2) $ s’écrit sous forme tri-diagonale par blocs de la manière suivante :\n",
    "\n",
    "$$\n",
    "\\begin{pmatrix}\n",
    "M - \\lambda_2 Id & \\lambda_2 Id \\\\\n",
    "A_1 & B_1 & \\lambda_2 Id \\\\\n",
    "& A_2 & B_2 & \\lambda_2 Id \\\\\n",
    "\\vdots & \\vdots & \\ddots & \\ddots & \\ddots & \\vdots & \\vdots & \\vdots & \\vdots\\\\\n",
    "& & & A_S & B_S & \\lambda_2 Id \\\\\n",
    "& & & & A_S & B_S & \\lambda_2 Id \\\\\n",
    "\\vdots & \\vdots & \\vdots & \\vdots & \\vdots & \\ddots & \\ddots & \\ddots & \\vdots\\\\\n",
    "\\end{pmatrix}\n",
    "$$\n",
    "\n",
    "où\n",
    "\n",
    "$$\n",
    "B_j = M - A_j - \\lambda_2 Id\n",
    "$$\n",
    "\n",
    "et\n",
    "\n",
    "$$\n",
    "A_j = \\text{diag}(a_{n,0}, \\dots, a_{n,S})\n",
    "$$\n",
    "\n",
    "avec\n",
    "\n",
    "$$\n",
    "a_{n,j} = \\min(S - j, n) \\mu_2.\n",
    "$$\n",
    "\n",
    "On admet qu’il existe une matrice $ R_S $ à coefficients positifs (et les plus petits possibles) qui soit solution de l’équation matricielle :\n",
    "\n",
    "$$\n",
    "\\lambda_2 Id + R_B S + R^2 A_S = 0.\n",
    "$$\n",
    "\n",
    "Pour trouver cette matrice $ R $, on réécrit cette équation sous la forme :\n",
    "\n",
    "$$\n",
    "R = -(Id + R^2 \\tilde{A}_S) \\tilde{B}_S^{-1}\n",
    "$$\n",
    "\n",
    "où \n",
    "\n",
    "$$\n",
    "\\tilde{A}_S=\\frac{1}{\\lambda_2}A_s \\text{ et } \\tilde{B}_S=\\frac{1}{\\lambda_2}B_s\n",
    "$$\n",
    "\n",
    "On considère ensuite la suite de matrices\n",
    "\n",
    "$$\n",
    "R_0 = 0\n",
    "$$\n",
    "\n",
    "$$\n",
    "R_{n+1} = -(Id + R^2 \\tilde{A}_n) \\tilde{B}_S^{-1}.\n",
    "$$\n",
    "\n",
    "Assez rapidement, cette suite converge vers une matrice solution de l’équation précédente. La propriété selon laquelle cette matrice a les coefficients positifs les plus petits possibles est démontrée dans [2]. On admet également que le rayon spectral de cette matrice est strictement inférieur à 1, donc que $ I - R $ est inversible et que l’on a :\n",
    "\n",
    "$$\n",
    "\\sum_{j=0}^{\\infty} R_j = (Id - R)^{-1}.\n",
    "$$\n",
    "\n",
    "### Partie 4\n",
    "\n",
    "1. **Montrer que la suite $ (x_j, j \\geq S) $ définie par**\n",
    "\n",
    "$$\n",
    "x_j = x_S R^{j - S} \\quad \\text{pour} \\quad j \\geq S.\n",
    "$$\n",
    "\n",
    "**est solution des équations d’équilibre au-delà du rang $ S $.**\n",
    "\n",
    "2. **Établir que**\n",
    "\n",
    "$$\n",
    "x_{S-1} = -x_S (\\tilde{B}_S + R \\tilde{A}_S).\n",
    "$$\n",
    "\n",
    "3. **Expliciter par récurrence la suite de matrices $ (T_j, j = S - 1, \\dots, 0) $ telle que l’on ait**\n",
    "\n",
    "$$\n",
    "x_{j+1} = x_j T_j.\n",
    "$$\n",
    "\n",
    "4. **Montrer enfin que l’on a**\n",
    "\n",
    "$$\n",
    "x_0 ((M - \\lambda_2 I) + T_0 A_1) = 0.\n",
    "$$\n",
    "\n",
    "où $ \\tilde{M} = \\frac{M}{\\lambda_2} $.\n",
    "\n",
    "5. **Expliquer comment on calcule $ x_S $.**\n",
    "\n",
    "6. **Retrouver la Figure 2 de [1] pour $ S = 5 $.**"
   ]
  },
  {
   "cell_type": "markdown",
   "metadata": {},
   "source": [
    "--- "
   ]
  },
  {
   "cell_type": "markdown",
   "metadata": {},
   "source": [
    "## 6. Canaux de garde\n",
    "\n",
    "Comme il est difficile d’implémenter la politique préemptive, on se contente souvent d’un système de canaux de garde. Les arrivées de classe 1 occupent un serveur tant qu’il y a un de libre et ne peuvent être mis dans la salle d’attente. En d’autres termes, si tous les serveurs sont pris, éventuellement en partie par des clients de classe 2, les clients de classe 1 qui arrivent sont perdus.\n",
    "\n",
    "Les clients de classe 2 ne peuvent entrer dans les serveurs que s’il y a au moins $ G $ serveurs libres (avec $ G $ à déterminer mais généralement très petit devant $ S $). Cette règle s’applique à leur arrivée ou au moment où un serveur se libère.\n",
    "\n",
    "### Partie 5\n",
    "\n",
    "1. **Pourquoi est-ce que le processus $ (Q_1, Q_2) $ défini précédemment n’est plus un processus de Markov représentant ce système ?**\n",
    "\n",
    "2. **Représenter la dynamique de ce système par un processus de Markov dont on précisera le générateur infinitésimal.**\n",
    "\n",
    "3. **Sans faire de calculs, est-ce que la condition de stabilité est plus ou moins contraignante sur $ \\rho_2 $ que dans le premier modèle ?**\n"
   ]
  }
 ],
 "metadata": {
  "kernelspec": {
   "display_name": "Python 3",
   "language": "python",
   "name": "python3"
  },
  "language_info": {
   "codemirror_mode": {
    "name": "ipython",
    "version": 3
   },
   "file_extension": ".py",
   "mimetype": "text/x-python",
   "name": "python",
   "nbconvert_exporter": "python",
   "pygments_lexer": "ipython3",
   "version": "3.12.4"
  }
 },
 "nbformat": 4,
 "nbformat_minor": 2
}
