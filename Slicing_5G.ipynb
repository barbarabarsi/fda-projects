{
 "cells": [
  {
   "cell_type": "markdown",
   "metadata": {},
   "source": [
    "**Modélisation du slicing dans les réseaux 5G**\n",
    "-\n",
    "\n",
    "**Bárbara Barsi Duarte Batista da Silva**\n",
    "\n",
    "**Rafaela de Carvalho Machado Pinheiro**\n",
    "\n",
    "\n",
    "--- "
   ]
  },
  {
   "cell_type": "markdown",
   "metadata": {},
   "source": [
    "*This is the English version of the project. For the French version, please refer to the `Slicing_Duarte_Pinheiro_FR.ipynb` file.*  \n",
    "&nbsp;  \n",
    "We originally made the whole project in English as we felt we were able to better answer the questions and explain our thoughts. We then used a translator to translate the answers into French. Excuse us for any mistakes in the French file, and please refer to this version if some of reasoning in French is unclear. Thank you for your understanding.\n",
    "\n",
    "---"
   ]
  },
  {
   "cell_type": "markdown",
   "metadata": {},
   "source": [
    "**_Library import_**"
   ]
  },
  {
   "cell_type": "code",
   "execution_count": 259,
   "metadata": {},
   "outputs": [],
   "source": [
    "import math\n",
    "import numpy as np\n",
    "import matplotlib.pyplot as plt"
   ]
  },
  {
   "cell_type": "markdown",
   "metadata": {},
   "source": [
    "---"
   ]
  },
  {
   "cell_type": "markdown",
   "metadata": {},
   "source": [
    "## Introduction\n",
    "La 5G permet de déployer des réseaux virtuels de bout en bout, avec des profils de qualité de service (QoS) spécifiques, au-dessus d’une infrastructure physique commune. Le slicing est le terme utilisé pour désigner la fonctionnalité qui rend cette coexistence possible. Chaque réseau virtuel déployé est appelé une tranche dans la terminologie de la 5G. Le découpage en tranches est particulièrement difficile à dimensionner pour respecter les contraintes de qualité de service des tranches. Par exemple, des tranches telles que le haut débit mobile amélioré (eMBB) et les communications ultra fiables à faible latence (URLLC) ont des exigences contradictoires en matière de qualité de service.  \n",
    "On s’intéresse ici à deux types distincts : les flux URLLC et eMMB. Les premiers sont des flux qui doivent être ultra-fiables et avec une faible latence. Traduit en langage de files d’attente, cela signifie que la perte doit être infime et qu’on ne peut pas se permettre de les retarder par une mise en buffer.  \n",
    "Pour les flux, eMMB, comme d’habitude, ils passent quand ils peuvent même si nor malement, ils ne devraient pas souffrir de trop de délai.  \n",
    "Toute la difficulté est de rtouver un moyen physique qui permette de réaliser cette priorisation tout en étant capable d’en étudier les performances pour dimensionner les ressources.  \n",
    "Dans un premier temps, nous regardons un modèle théorique qui s’étudie relativement bien. Dans un deuxième temps, nous envisagerons un modèle plus réaliste à mettre en oeuvre mais qui s’étudie plus difficilement."
   ]
  },
  {
   "cell_type": "markdown",
   "metadata": {},
   "source": [
    "--- "
   ]
  },
  {
   "cell_type": "markdown",
   "metadata": {},
   "source": [
    "## 2. Préliminaires\n",
    "\n",
    "On rappelle que la formule d’Erlang-B donne la probabilité que $ S $ serveurs soient occupés à l’état stationnaire :\n",
    "\n",
    "$$\n",
    "ErlB[\\rho, S] = \\frac{\\rho^S}{S! \\sum_{j=0}^{S} \\frac{\\rho^j}{j!}}\n",
    "$$\n",
    "\n",
    "On a la relation de récurrence :\n",
    "\n",
    "$$\n",
    "\\frac{1}{ErlB[\\rho, 0]} = 1\n",
    "$$\n",
    "\n",
    "$$\n",
    "\\frac{1}{ErlB[\\rho, S]} = 1 + \\frac{S}{\\rho\\cdot ErlB[\\rho, S-1]}\n",
    "$$\n",
    "\n",
    "### Partie 1\n",
    "1. **Écrire une fonction Python qui renvoie le nombre moyen de clients dans une file M/M/S/S à l’état stationnaire sans calculer de factorielle.**"
   ]
  },
  {
   "cell_type": "markdown",
   "metadata": {},
   "source": [
    ">  &nbsp;\n",
    "> \n",
    "> To perform this calculation, we can perform the calculation of $\\mathbb{E[N]}$, with N being the average number of customers. As we want to know the value for the stationary state, we can say that $\\mathbb{E[N]}$ is equal to the sum of the product of the probability of the system being in a state $i$, $\\pi(i)$, by the state $i$ (which is equivalent to having a number $i$ of customers in the system, since there is no queue and all the customers present at the moment of analysis are being served by some server).\n",
    ">\n",
    "> Thus, we have that\n",
    ">\n",
    "> $$ \\mathbb{E}[N] = \\sum_{i \\in \\mathbb{S}} n \\cdot \\pi(N = i) $$\n",
    ">\n",
    "> We can state that the values of $\\pi$ follow the normalization condition, that is, $\\sum_{i \\in \\mathbb{S}} \\pi(N = i) = 1$.\n",
    ">\n",
    "> As we are in the stationary state, we know that the probability variations are invariant and the chance of being in any state at this moment of the system is equal. This means that the rates of entry and exit of the states balance each other, that is:\n",
    ">\n",
    "> $$ \\lambda_i \\cdot  \\pi(i-1) = \\mu_i \\cdot \\pi(i) $$\n",
    ">\n",
    "> Being $\\lambda_i$ the entry rate into state $i$ and $\\mu_i$ the exit rate from the same. As it is an M/M/S/S system, it is possible to state that the entry rates are always constant, $\\lambda$, while the exit rates from a state $i$ to $i-1$ are equal to the product of the coefficient of the service rate, $\\mu$, by the number of servers occupied before the exit, $i$ (the justification for this statement can be found on page 18 of the course poly).\n",
    ">\n",
    "> If we were building the method so that it calculated these probabilities using factorial, we could simply use the equation $\\pi(i) = \\frac{\\lambda^i}{i! \\mu^i} \\pi(0)$. However, we can use recursion to perform this calculation, since we have:\n",
    ">\n",
    "> $$ \\pi(i) = \\frac{ \\lambda }{ \\mu \\cdot i} \\cdot  \\pi(i-1) $$\n",
    ">\n",
    "> $$ \\pi(i) = \\frac{ \\rho }{i} \\cdot  \\pi(i-1) $$\n",
    ">\n",
    "> To determine the base case, $\\pi(0)$, we just need to remember that the probabilities must sum to 1 so that the normalization condition is met. Using the version with factorial inside the summation, we have:\n",
    "> $$\n",
    "> \\sum_{i \\in \\mathbb{S}} \\pi(i) = \\sum_{i \\in \\mathbb{S}}\\ \\frac{\\lambda^i}{i! \\mu^i} \\pi(0) = 1\n",
    "> $$\n",
    ">\n",
    "> $$\n",
    "> \\pi(0) \\sum_{i \\in \\mathbb{S}} \\frac{(\\lambda/\\mu)^i}{i!} = 1\n",
    "> $$\n",
    ">\n",
    "> We can notice that inside the summation we have a Taylor series of $\\mathbb{e}^{\\lambda/\\mu}$, so that $ \\sum_{i \\in \\mathbb{S}} \\frac{(\\lambda/\\mu)^i}{i!} = e^{\\lambda/\\mu}$. Therefore:\n",
    "> $$\n",
    "> \\pi(0) \\cdot e^{\\lambda/\\mu} = 1\n",
    "> $$\n",
    ">\n",
    "> Thus, we have that the base case is $\\pi(0) = e^{-\\lambda/\\mu}$.\n",
    ">\n",
    "> With this, we can calculate all probabilities recursively and apply them in the summation to obtain the final average number.\n",
    ">\n",
    ">  &nbsp;"
   ]
  },
  {
   "cell_type": "code",
   "execution_count": 260,
   "metadata": {},
   "outputs": [],
   "source": [
    "def prob_state(p, nb_of_servers):\n",
    "\n",
    "    if (nb_of_servers == 0):  return math.exp(-p)\n",
    "\n",
    "    return (p/nb_of_servers) * prob_state(p, nb_of_servers - 1) \n",
    "\n",
    "def mean_number_waiting_customers(arrival_rate, service_rate, nb_of_servers):\n",
    "\n",
    "    p = arrival_rate / service_rate\n",
    "    mean = 0\n",
    "\n",
    "    for i in range(0, nb_of_servers + 1):\n",
    "        mean += prob_state(p, i) * i\n",
    "\n",
    "    return mean"
   ]
  },
  {
   "cell_type": "markdown",
   "metadata": {},
   "source": [
    "2. **Pour un choix de paramètre $\\rho$ et $S$ tels que $ErlB[\\rho, S]$ soit petit (de l’ordre de $10^{-3}$), qu’est-ce que l’on remarque à propos du nombre moyen de clients ?**  \n",
    "Expliquer ce phénomène en vous aidant des résultats connus sur la M/M/$\\infty$."
   ]
  },
  {
   "cell_type": "markdown",
   "metadata": {},
   "source": [
    ">  &nbsp;\n",
    "> \n",
    "> Below we present the recursive method of calculation of Erlang-B, that will allow us to verify the parameters  used in the calculation of the average number of customers.\n",
    "> \n",
    ">  &nbsp;"
   ]
  },
  {
   "cell_type": "code",
   "execution_count": 261,
   "metadata": {},
   "outputs": [],
   "source": [
    "def erlang_b(p, nb_of_servers):\n",
    "\n",
    "    if (nb_of_servers == 0): return 1 \n",
    "\n",
    "    return 1/(1 + (nb_of_servers / (p * erlang_b(p, nb_of_servers - 1))))"
   ]
  },
  {
   "cell_type": "code",
   "execution_count": 262,
   "metadata": {},
   "outputs": [
    {
     "name": "stdout",
     "output_type": "stream",
     "text": [
      "Charge = 0.2, S = 3\n",
      "Erlang-B = 0.0011\n",
      "Nombre moyen de clients: 0.1998\n"
     ]
    }
   ],
   "source": [
    "S = 3\n",
    "lamb = 4\n",
    "mu = 20\n",
    "p = lamb / mu\n",
    "\n",
    "print(f\"Charge = {p}, {S = }\")\n",
    "print(f\"Erlang-B = {erlang_b(p, S):.4f}\")\n",
    "print(f\"Nombre moyen de clients: {mean_number_waiting_customers(lamb, mu, S):.4f}\")"
   ]
  },
  {
   "cell_type": "markdown",
   "metadata": {},
   "source": [
    "> &nbsp;\n",
    "> \n",
    "> Considering that $ErlB[\\rho, S]$ has a considerably low value, we can assume that the system has an average of $\\rho$ customers in its stationary state. We can state this based on the similarity between the behavior of this system and what we observe in the case of an M/M/$\\infty$ modeling.\n",
    "> \n",
    "> With a low Erlang-B value, we know that the system can serve customers with a significantly low probability of all $S$ servers being unavailable, while in the case of infinite servers, the probability of service blocking is null, precisely because of the infinite number of servers available to serve the customers.\n",
    "> \n",
    "> Since there is a low chance of having no free servers for service, the average number of customers in the system becomes driven by the arrival and service rates (that is, $\\lambda/\\mu = \\rho$), rather than by the potential blocking of an exhausted system.\n",
    "> \n",
    "> &nbsp;"
   ]
  },
  {
   "cell_type": "markdown",
   "metadata": {},
   "source": [
    "--- "
   ]
  },
  {
   "cell_type": "markdown",
   "metadata": {},
   "source": [
    "## 3. Modélisation\n",
    "\n",
    "On suit le modèle proposé dans [1] qui n’est pas implémentable dans un système réel mais qui s’analyse mathématiquement très bien.\n",
    "\n",
    "On considère une file d’attente avec un buffer infini et $ S $ serveurs. Il y a deux classes de clients de type 1 et de type 2. Les clients de type 1 ont une priorité plus élevée que les clients de type 2. Les clients de type 1 arrivent selon un processus de Poisson de paramètre $ \\lambda_1 $ et les clients de type 2 arrivent selon un processus de Poisson de paramètre $ \\lambda_2 $. Les clients de type 1 ont une durée de service exponentielle de paramètre $ \\mu_1 $ et les clients de type 2 ont une durée de service exponentielle de paramètre $ \\mu_2 $.\n",
    "\n",
    "Les clients de type 1 ne peuvent pas être bufferisés et doivent être servis immédiatement. Les clients de type 2 peuvent être bufferisés. On suppose que la capacité de la file d’attente est infinie.\n",
    "\n",
    "Les clients de classe 1 préemptent les serveurs : s’il reste des serveurs libres, ils s’y mettent normalement mais si tous les serveurs sont pris, ils prennent la place d’un client de classe 2. Celui-ci se retrouve dans le buffer et reprendra son service, là où il en était, dès qu’un serveur se libérera. S’il n’y a que des clients de classe 1 en service, le client de type 1 qui arrive est perdu.\n",
    "\n",
    "Les clients de classe 2 ne peuvent accéder à un serveur que s’il y en a de libre. S’ils arrivent et qu’il n’y a pas de serveur libre, ils sont mis dans le buffer.\n",
    "\n",
    "On note $ Q_1 $ le nombre de clients de type 1 dans le système et $ Q_2 $ le nombre de clients de type 2 dans le système. On note $ S_1 $ le nombre de serveurs occupés par des clients de type 1 et $ S_2 $ le nombre de serveurs occupés par des clients de type 2. On note $ B $ le nombre de clients de type 2 dans le buffer.\n"
   ]
  },
  {
   "cell_type": "markdown",
   "metadata": {},
   "source": [
    "### Partie 2\n",
    "\n",
    "1. **Quelles sont les contraintes sur les variables d’état du système et comment les variables $ Q_2 $, $ S_2 $ et $ B $ sont-elles reliées ?**  \n",
    "   Expliquer en particulier pourquoi $ Q_1 + S_2 < S $ ne peut se produire que si $ B = 0 $."
   ]
  },
  {
   "cell_type": "markdown",
   "metadata": {},
   "source": [
    "> &nbsp;\n",
    "> \n",
    "> $Q_2$ is the number of clients of class 2; $S_2$ is the number of servers currently occupied by class 2 clients; $B$ is the occupied buffer, which can only be occupied by class 2 clients, thus it is the number of class 2 clients waiting to be served.  \n",
    "> From these definitions, we get the following relations:  \n",
    "> - $S_1 = Q_1$: Type 1 clients do not stay in the buffer, thus every type 1 client in the system is being served.\n",
    "> - **$S_2 \\leq Q_2$**: Since $Q_2 $ is the total number of clients in system, it includes clients in the buffer and clients being served $S_2$. Thus, the number of class 2 clients being served $S_2$ can never exceed the total amount of class 2 clients in the system $Q_2$\n",
    "> - **$B \\leq Q_2$**: Similarly, the number of class 2 clients waiting in the buffer can never be larger than the total amount of class 2 clients in the whole system, because they are the only ones sent to the buffer - as class 1 clients do not wait.\n",
    "> - **$Q_2 = S_2 + B$**: Only class 2 clients stay in the buffer, so they can eiter be in the buffer or being served.  \n",
    "> \n",
    "> With that, $Q_1 + S_2 < S$ implies $B=0$: The buffer will only be empty ($B=0$) if all class 2 clients are being served. Since class 1 clients cannot wait and are served immediately, we have $Q_1 = S_1$, thus we can rewrite the statement as $S_1 + S_2 < S$. This means there are unoccupied servers, thus there would not be any clients in the buffer.\n",
    "> \n",
    "> &nbsp;"
   ]
  },
  {
   "cell_type": "markdown",
   "metadata": {},
   "source": [
    "\n",
    "2. **Montrer que le processus $ Q_1 $ est un processus de Markov et reconnaître sa dynamique comme celle d’une file simple dont on précisera les caractéristiques.**"
   ]
  },
  {
   "cell_type": "markdown",
   "metadata": {},
   "source": [
    "> &nbsp;\n",
    ">\n",
    "> The process Q1 can be modeled as an M/M/S/S system due to certain characteristics of the functioning of the servers and the organization of the clients.\n",
    ">\n",
    "> As type 1 clients arrive at the system considering an exponential arrival rate with parameter $\\lambda_1$ and are served with an exponential service rate with parameter $\\mu_1$, we can verify that this is the Markovian behavior denoted by the letters M/M in the modeling.\n",
    "> \n",
    "> The analyzed system has the peculiarity of giving priority to clients 1, that is, all servers that are not being used by this type of client are available for service, with clients 2 having their execution interrupted and consequently returning to the buffer after this replacement in the service. With this, we can state that all the S servers are available for clients 1.\n",
    "> \n",
    "> However, another peculiarity of the system is that these clients cannot shelter in the buffer, that is, if all servers are occupied serving some client of this type, the client automatically leaves the system. As there is no interference from the existence of type 2 clients in this behavior, we can say that there is no queue for clients 1, which confirms the S/S nature of this type of execution.\n",
    ">\n",
    "> &nbsp;"
   ]
  },
  {
   "cell_type": "markdown",
   "metadata": {},
   "source": [
    "\n",
    "3. **Écrire les transitions possibles du processus de Markov ($Q_1$, $Q_2$).**  \n",
    "   Montrer en particulier que le taux de transition de l’état $ (q_1, q_2) $ à l’état $ (q_1, q_2-1) $ est donné par :\n",
    "   $$\\min\\{q_2, S - q_1\\} \\mu_2$$\n"
   ]
  },
  {
   "cell_type": "markdown",
   "metadata": {},
   "source": [
    "> &nbsp;\n",
    "> \n",
    "> There are 4 possible transitions:\n",
    "> - $q_1 \\rightarrow q_1+1$, when a class 1 client arrives with rate $\\lambda_1$\n",
    "> - $q_2 \\rightarrow q_2+1$, when a class 2 client arrives with rate $\\lambda_2$\n",
    "> - $q_1 \\rightarrow q_1-1$, when a class 1 client leaves with rate $q_1\\mu_1$\n",
    "> - $q_2 \\rightarrow q_2-1$, when a class 2 client leaves with rate $min\\{q_1, S - q_1\\}\\mu_2$\n",
    "> \n",
    "> *Obs.:* at each transition, only the specified state is changed (*i.e.*, in $q_1 \\rightarrow q_1+1$, $q_2$ remains the same)\n",
    "> \n",
    "> Since type 1 clients can preemt servers serving type 2 clients at any time, we have $S-Q_1$ as the amount of available servers + the amount of servers occupied by type 2 clients, then at most $S-Q_1$ $(Q_2 < S-Q_1)$. This can be rewritten as $Q_1 + Q_2 < S$, and as we proved above, $Q_1 + Q_2 < S \\rightarrow B = 0$, which means there are no clients in the buffer, they are all being served ($Q_2 = S_2$). On the other hand, if $B>0$ - meaning there are no free servers - we get that $S_2=S-Q_1$. Thus, $S_2$ is at least equal to $Q_2$ but at most equal to $S-Q_1$, meaning that $S_2=min\\{q_1, S - q_1\\}\\mu_2$  \n",
    ">\n",
    "> &nbsp; "
   ]
  },
  {
   "cell_type": "markdown",
   "metadata": {},
   "source": [
    "---"
   ]
  },
  {
   "cell_type": "markdown",
   "metadata": {},
   "source": [
    "   \n",
    "4. **Simuler l’évolution de ce système en Python.**  \n",
    "   On prendra comme valeurs $ S = 10, \\mu_1 = 2, \\mu_2 = 1, \\lambda_1 = 4, \\lambda_2 = 3 $.\n",
    "\n",
    "   On note $ (x_1, x_2) $ le processus ainsi construit. On vérifiera notamment que :\n",
    "\n",
    "$$\n",
    "\\frac{1}{T} \\int_0^T 1_{\\{S\\}}(x_1(s)) \\, ds \\xrightarrow{T\\rightarrow \\infty} \\frac{\\rho_1^S/S!}{\\sum_{j=0}^{S} {\\rho_1^j}/{j!}}\n",
    "$$"
   ]
  },
  {
   "cell_type": "markdown",
   "metadata": {},
   "source": [
    "> &nbsp;\n",
    "> \n",
    "> The function below tracks three main variables: the number of class 1 customers in service (q1), the number of class 2 customers in service (s2), and the number of class 2 customers in the buffer (b2). It also generates random arrival times for both classes of customers and random service times.\n",
    ">\n",
    "> It simulates events happening at different times, then it checks if servers are available when a customer arrives, and when a server is freed. At class 1 arrivals, if servers are not available but class 2 customers are being served, one is pushed to the buffer. It also observes how much time all servers have spent busy with class 1 customers only.\n",
    ">\n",
    "> After running many times (T=100000 ), it calculates the proportion of that time when all servers had only class 1 customers. \n",
    ">\n",
    "> The goal is to demonstrate that if all of the servers become occupied by class 1 customers, the system behaves like an ordinary \"loss system\" in which new arrivals of class 1 are not accepted and that this corresponds with the theoretical formula. \n",
    "> \n",
    "> &nbsp;"
   ]
  },
  {
   "cell_type": "code",
   "execution_count": 263,
   "metadata": {},
   "outputs": [],
   "source": [
    "def simulation(S, mu_1, mu_2, lambda_1, lambda_2, T):\n",
    "    current_time = 0\n",
    "    busy_time_class1_full = 0 # track how much of the time servers are busy with class 1\n",
    "\n",
    "    q1 = 0  # class 1 in service\n",
    "    s2 = 0  # class 2 in service\n",
    "    b2 = 0  # class 2 in buffer\n",
    "\n",
    "    # scheduled events: (time, type) -> type in [\"arrival1\", \"arrival2\", \"dep1_i\", \"dep2_i\"]\n",
    "    events = []\n",
    "\n",
    "    # generate arrival times\n",
    "    arrival_times1 = np.cumsum(np.random.exponential(1 / lambda_1, int(2 * lambda_1 * T)))\n",
    "    arrival_times2 = np.cumsum(np.random.exponential(1 / lambda_2, int(2 * lambda_2 * T)))\n",
    "    i1 = i2 = 0\n",
    "\n",
    "    # service times for class 1 and class 2\n",
    "    def gen_service1(): return np.random.exponential(1 / mu_1)\n",
    "    def gen_service2(): return np.random.exponential(1 / mu_2)\n",
    "\n",
    "    servers = []  # list of (end_time, class), class = 1 or 2\n",
    "\n",
    "    while current_time < T:\n",
    "        # schedule next arrivals if available\n",
    "        next_arrival1 = arrival_times1[i1] if i1 < len(arrival_times1) else float('inf')\n",
    "        next_arrival2 = arrival_times2[i2] if i2 < len(arrival_times2) else float('inf')\n",
    "\n",
    "        # find next departure\n",
    "        if servers:\n",
    "            next_departure_time, _ = min(servers, key=lambda x: x[0])\n",
    "        else:\n",
    "            next_departure_time = float('inf')\n",
    "\n",
    "        # choose the next event\n",
    "        next_event_time = min(next_arrival1, next_arrival2, next_departure_time)\n",
    "        if next_event_time > T:\n",
    "            break\n",
    "\n",
    "        # track busy time for class 1 fully occupying servers\n",
    "        if q1 == S:\n",
    "            busy_time_class1_full += next_event_time - current_time\n",
    "\n",
    "        current_time = next_event_time\n",
    "\n",
    "        if next_event_time == next_arrival1:\n",
    "            i1 += 1\n",
    "            if q1 < S:\n",
    "                q1 += 1\n",
    "                servers.append((current_time + gen_service1(), 1))\n",
    "            elif s2 > 0:\n",
    "                # preempt a class 2 client\n",
    "                s2 -= 1\n",
    "                b2 += 1\n",
    "                servers = [(t, c) for t, c in servers if not (c == 2 and t == max(t for t, c in servers if c == 2))]\n",
    "                q1 += 1\n",
    "                servers.append((current_time + gen_service1(), 1))\n",
    "            # else: lost\n",
    "\n",
    "        elif next_event_time == next_arrival2:\n",
    "            i2 += 1\n",
    "            if q1 + s2 < S:\n",
    "                s2 += 1\n",
    "                servers.append((current_time + gen_service2(), 2))\n",
    "            else:\n",
    "                b2 += 1\n",
    "\n",
    "        elif next_event_time == next_departure_time:\n",
    "            # remove the client that is leaving\n",
    "            for idx, (t, c) in enumerate(servers):\n",
    "                if t == next_departure_time:\n",
    "                    departing_class = c\n",
    "                    servers.pop(idx)\n",
    "                    break\n",
    "            if departing_class == 1:\n",
    "                q1 -= 1\n",
    "            else:\n",
    "                s2 -= 1\n",
    "                if b2 > 0:\n",
    "                    b2 -= 1\n",
    "                    s2 += 1\n",
    "                    servers.append((current_time + gen_service2(), 2))\n",
    "\n",
    "    return busy_time_class1_full / T\n"
   ]
  },
  {
   "cell_type": "code",
   "execution_count": 264,
   "metadata": {},
   "outputs": [
    {
     "name": "stdout",
     "output_type": "stream",
     "text": [
      "Simulated Erlang-B: 2.7258071025707978e-05\n",
      "Theoretical Erlang-B: 3.819016794126352e-05\n",
      "Difference: 1.0932096915555543e-05\n"
     ]
    }
   ],
   "source": [
    "S = 10              # servers\n",
    "mu_1 = 2            # service rate\n",
    "mu_2 = 1\n",
    "lambda_1 = 4        # arrival rate\n",
    "lambda_2 = 3\n",
    "T = 100000           # total simulation time\n",
    "\n",
    "sim_erlang_b = simulation(S, mu_1, mu_2, lambda_1, lambda_2, T=100000)\n",
    "theoretical_erlang_b = erlang_b(lambda_1/mu_1, S)\n",
    "\n",
    "print(f\"Simulated Erlang-B: {sim_erlang_b}\")\n",
    "print(f\"Theoretical Erlang-B: {theoretical_erlang_b}\")\n",
    "print(f\"Difference: {np.abs(sim_erlang_b - theoretical_erlang_b)}\")"
   ]
  },
  {
   "cell_type": "markdown",
   "metadata": {},
   "source": [
    "> &nbsp;\n",
    "> \n",
    "> The left-hand side of the equation is the fraction of time all servers are busy with class 1 clients, and as $T\\rightarrow\\infty$, it converges to a stationary state probability that all servers are occupied by class 1.\n",
    "> The right-hand side is the Erlang-B formula, and it should match the left-hand side as it represents the blocking probability in a $M/M/S/S$ queue - such as the $Q_1$ model above.\n",
    "> According to our calculations, there is no significant difference between the theoretical (left-hand side) and the result from the simulation (right-hand side).\n",
    ">\n",
    "> &nbsp;"
   ]
  },
  {
   "cell_type": "markdown",
   "metadata": {},
   "source": [
    "## 4. Stationnarité\n",
    "\n",
    "Il est montré dans [1] que ce système admet un régime stationnaire si et seulement si :\n",
    "\n",
    "$$\n",
    "\\rho_2 + \\frac{1}{\\sum_{j=0}^{S} \\rho_1^j/j!} \\sum_{k=0}^{S} k\\frac{\\rho_1^k}{k!} < S\n",
    "$$\n",
    "\n",
    "où $ \\rho_i = \\frac{\\lambda_i}{\\mu_i} $.\n",
    "\n",
    "### Partie 3\n",
    "\n",
    "1. **Illustrer ce résultat par simulation. Serait-il possible de deviner (2) par simulation ?**\n"
   ]
  },
  {
   "cell_type": "markdown",
   "metadata": {},
   "source": [
    "> &nbsp;\n",
    ">\n",
    "> We can show this condition through simulation, but discovering it via simulation is very difficult. Even by simulating a wide range of parameters ($\\lambda_1, \\lambda_2, \\mu_1, \\mu_2, S$), we would only get a numerical approximation of the stability boundary, not the exact formula.  \n",
    "> We will create a `stability` function to verify the results with many different parameters below\n",
    "> \n",
    "> &nbsp;"
   ]
  },
  {
   "cell_type": "code",
   "execution_count": 265,
   "metadata": {},
   "outputs": [],
   "source": [
    "\n",
    "def stability(S, mu_1, mu_2, lambda_1, lambda_2):\n",
    "    rho_1 = lambda_1 / mu_1\n",
    "    rho_2 = lambda_2 / mu_2\n",
    "\n",
    "    sum_rho = sum(rho_1**j / math.factorial(j) for j in range(S+1))\n",
    "    sum_krho = sum(k * rho_1**k / math.factorial(k) for k in range(S+1))\n",
    "\n",
    "    result = rho_2 + (1/sum_rho) * sum_krho \n",
    "    return result < S, result"
   ]
  },
  {
   "cell_type": "code",
   "execution_count": 266,
   "metadata": {},
   "outputs": [
    {
     "name": "stdout",
     "output_type": "stream",
     "text": [
      "Params (10, 2, 1, 4, 3):\n",
      "  Stability condition value: 5.00 (must be < 10)\n",
      "  Predicted to be stable\n",
      "  Simulated fraction of time all class 1: 0.0000\n",
      "\n",
      "Params (10, 2, 1, 4, 6):\n",
      "  Stability condition value: 8.00 (must be < 10)\n",
      "  Predicted to be stable\n",
      "  Simulated fraction of time all class 1: 0.0001\n",
      "\n",
      "Params (10, 2, 1, 8, 3):\n",
      "  Stability condition value: 6.98 (must be < 10)\n",
      "  Predicted to be stable\n",
      "  Simulated fraction of time all class 1: 0.0055\n",
      "\n",
      "Params (10, 2, 1, 15, 3):\n",
      "  Stability condition value: 9.75 (must be < 10)\n",
      "  Predicted to be stable\n",
      "  Simulated fraction of time all class 1: 0.0957\n",
      "\n",
      "Params (10, 2, 1, 15, 9):\n",
      "  Stability condition value: 15.75 (must be < 10)\n",
      "  Predicted to be unstable\n",
      "  Simulated fraction of time all class 1: 0.0924\n",
      "\n"
     ]
    }
   ],
   "source": [
    "test_params = [\n",
    "    (10, 2, 1, 4, 3),       # original params, stable\n",
    "    (10, 2, 1, 4, 6),       # increase class 2 load\n",
    "    (10, 2, 1, 8, 3),       # increase class 1 load\n",
    "    (10, 2, 1, 15, 3),      # very high class 1 load\n",
    "    (10, 2, 1, 15, 9)       # increase both loads\n",
    "]\n",
    "\n",
    "for params in test_params:\n",
    "    S, mu_1, mu_2, lambda_1, lambda_2 = params\n",
    "    stable, val = stability(S, mu_1, mu_2, lambda_1, lambda_2)\n",
    "    print(f\"Params {params}:\")\n",
    "    print(f\"  Stability condition value: {val:.2f} (must be < {S})\")\n",
    "    print(f\"  Predicted to be {'stable' if stable else 'unstable'}\")\n",
    "    \n",
    "    frac = simulation(S, mu_1, mu_2, lambda_1, lambda_2, T=10000)\n",
    "    print(f\"  Simulated fraction of time all class 1: {frac:.4f}\\n\")"
   ]
  },
  {
   "cell_type": "markdown",
   "metadata": {},
   "source": [
    "---"
   ]
  },
  {
   "cell_type": "markdown",
   "metadata": {},
   "source": [
    "## 5. Calcul de la probabilité stationnaire\n",
    "\n",
    "En s’aidant de la section 6 de [1], on veut calculer la probabilité stationnaire $ \\pi $ de notre système sous réserve que (2) soit satisfaite. Par définition, $ \\pi $ est un vecteur de taille infinie indexée par les valeurs possibles de $ (q_1, q_2) $. On numérote les états $ (q_1, q_2) $ en ordre lexicographique à droite :\n",
    "\n",
    "$ (0, 0) \\prec (1, 0) \\prec \\dots \\prec (S, 0) \\prec (0, 1) \\prec \\dots \\prec (S, 1) \\prec \\dots $\n",
    "\n",
    "et on forme les vecteurs ligne à $ S + 1 $ coordonnées\n",
    "\n",
    "$$\n",
    "x_i = (\\pi(0,i), \\pi(1,i), \\dots, \\pi(S,i))\n",
    "$$\n",
    "\n",
    "On note $ M $ la matrice $ (S+1) \\times (S+1) $ qui correspond au générateur d’une file M/M/S/S de paramètres $ \\lambda_1 $ et $ \\mu_1 $. Le générateur de $ (Q_1, Q_2) $ s’écrit sous forme tri-diagonale par blocs de la manière suivante :\n",
    "\n",
    "$$\n",
    "\\begin{pmatrix}\n",
    "M - \\lambda_2 Id & \\lambda_2 Id \\\\\n",
    "A_1 & B_1 & \\lambda_2 Id \\\\\n",
    "& A_2 & B_2 & \\lambda_2 Id \\\\\n",
    "\\vdots & \\vdots & \\ddots & \\ddots & \\ddots & \\vdots & \\vdots & \\vdots & \\vdots\\\\\n",
    "& & & A_S & B_S & \\lambda_2 Id \\\\\n",
    "& & & & A_S & B_S & \\lambda_2 Id \\\\\n",
    "\\vdots & \\vdots & \\vdots & \\vdots & \\vdots & \\ddots & \\ddots & \\ddots & \\vdots\\\\\n",
    "\\end{pmatrix}\n",
    "$$\n",
    "\n",
    "où\n",
    "\n",
    "$$\n",
    "B_j = M - A_j - \\lambda_2 Id\n",
    "$$\n",
    "\n",
    "et\n",
    "\n",
    "$$\n",
    "A_j = \\text{diag}(a_{n,0}, \\dots, a_{n,S})\n",
    "$$\n",
    "\n",
    "avec\n",
    "\n",
    "$$\n",
    "a_{n,j} = \\min(S - j, n) \\mu_2.\n",
    "$$\n",
    "\n",
    "On admet qu’il existe une matrice $ R_S $ à coefficients positifs (et les plus petits possibles) qui soit solution de l’équation matricielle :\n",
    "\n",
    "$$\n",
    "\\lambda_2 Id + R_B S + R^2 A_S = 0.\n",
    "$$\n",
    "\n",
    "Pour trouver cette matrice $ R $, on réécrit cette équation sous la forme :\n",
    "\n",
    "$$\n",
    "R = -(Id + R^2 \\tilde{A}_S) \\tilde{B}_S^{-1}\n",
    "$$\n",
    "\n",
    "où \n",
    "\n",
    "$$\n",
    "\\tilde{A}_S=\\frac{1}{\\lambda_2}A_s \\text{ et } \\tilde{B}_S=\\frac{1}{\\lambda_2}B_s\n",
    "$$\n",
    "\n",
    "On considère ensuite la suite de matrices\n",
    "\n",
    "$$\n",
    "R_0 = 0\n",
    "$$\n",
    "\n",
    "$$\n",
    "R_{n+1} = -(Id + R^2 \\tilde{A}_n) \\tilde{B}_S^{-1}.\n",
    "$$\n",
    "\n",
    "Assez rapidement, cette suite converge vers une matrice solution de l’équation précédente. La propriété selon laquelle cette matrice a les coefficients positifs les plus petits possibles est démontrée dans [2]. On admet également que le rayon spectral de cette matrice est strictement inférieur à 1, donc que $ I - R $ est inversible et que l’on a :\n",
    "\n",
    "$$\n",
    "\\sum_{j=0}^{\\infty} R_j = (Id - R)^{-1}.\n",
    "$$"
   ]
  },
  {
   "cell_type": "markdown",
   "metadata": {},
   "source": [
    "### Partie 4\n",
    "\n",
    "1. **Montrer que la suite $ (x_j, j \\geq S) $ définie par**\n",
    "\n",
    "$$\n",
    "x_j = x_S R^{j - S} \\quad \\text{pour} \\quad j \\geq S.\n",
    "$$\n",
    "\n",
    "**est solution des équations d’équilibre au-delà du rang $ S $.**\n",
    "\n"
   ]
  },
  {
   "cell_type": "markdown",
   "metadata": {},
   "source": [
    "> &nbsp;\n",
    ">\n",
    "> As we are analyzing the stationary state of the system, the following equality must hold:\n",
    "> \n",
    "> $$\n",
    "> \\pi \\cdot Q = 0\n",
    "> $$\n",
    "> \n",
    "> where $Q$ is the transition matrix and $\\pi$ is the matrix of stationary probabilities. $\\pi$ can be described as:\n",
    "> $$\n",
    "> \\pi = \\begin{pmatrix} x_0 \\\\ x_1 \\\\ \\vdots \\end{pmatrix}\n",
    "> $$\n",
    "> with each $x_i$ representing the vector $\\begin{pmatrix} \\pi_{(0,i)} & \\pi_{(1,i)} & \\dots &  \\pi_{(S,i)} \\end{pmatrix}$.\n",
    "> Thus, we have two possible balance equations:\n",
    ">\n",
    "> $$\n",
    "> x_0 (M - \\lambda_2 \\cdot Id) + x_1 A_1 = 0  \\text{ , for } j = 0\n",
    "> $$\n",
    "> $$\n",
    "> x_{j-1} (\\lambda_2 \\cdot Id) + x_{j} B_j + x_{j+1} A_{j+1} = 0 \\text{ , for } 0 < j < S\n",
    "> $$\n",
    "> \n",
    "> $$\n",
    "> x_{j-1} (\\lambda_2 \\cdot Id) + x_{j} B_S + x_{j+1} A_S = 0 \\text{ , for } j \\geq S\n",
    "> $$\n",
    "> \n",
    "> Since we are focusing on the cases where the states are greater than or equal to $S$, we will use the second equation.\n",
    "> \n",
    "> To demonstrate that the sequence $x_j = x_S \\cdot R^{j-S}$ satisfies the above equation, we will consider $x_{j} = x_{S} \\cdot R^{j-S}$ and show that the result of $x_{j-1} (\\lambda_2 \\cdot Id) + x_{j} B_S + x_{j+1} A_S$ equals 0. Substituting into the sum, we have:\n",
    "> \n",
    "> $$\n",
    "> (x_S R^{j - 1 - S}) (\\lambda_2 \\cdot Id) + (x_S R^{j - S}) B_S + (x_S R^{j + 1 - S}) A_S\n",
    "> $$\n",
    "> \n",
    "> $$\n",
    "> (x_S R^{j - 1 - S}) (\\lambda_2 I + R B_S + R^2 A_S)\n",
    "> $$\n",
    "> \n",
    "> Since $ (\\lambda_2 I + R B_S + R^2 A_S) = 0$,\n",
    "> $$\n",
    "> (x_S R^{j - 1 - S}) \\cdot 0 = 0\n",
    "> $$\n",
    "> \n",
    "> Thus, we can state that $x_{j} = x_{S} \\cdot R^{j-S}$ is a solution to the stationary equations for $j \\geq S$.\n",
    ">\n",
    "> &nbsp;\n"
   ]
  },
  {
   "cell_type": "markdown",
   "metadata": {},
   "source": [
    "---"
   ]
  },
  {
   "cell_type": "markdown",
   "metadata": {},
   "source": [
    "2. **Établir que**\n",
    "\n",
    "$$\n",
    "x_{S-1} = -x_S (\\tilde{B}_S + R \\tilde{A}_S).\n",
    "$$"
   ]
  },
  {
   "cell_type": "markdown",
   "metadata": {},
   "source": [
    "> &nbsp;\n",
    ">\n",
    "> Considering the stationary state, let us once again analyze the case of $x_{j-1} (\\lambda_2 \\cdot Id) + x_{j} B_S + x_{j+1} A_S$, this time observing the case where $j = S$.\n",
    "> \n",
    "> $$\n",
    "> x_{S - 1} \\lambda_2 \\cdot Id + x_S B_S + x_{S + 1} A_{S} = 0\n",
    "> $$\n",
    "> \n",
    "> $$\n",
    "> \\lambda_2 x_{S - 1} = - x_S B_S - x_S R A_{S}\n",
    "> $$\n",
    "> \n",
    "> $$\n",
    "> x_{S - 1} = - x_S \\left( \\frac{B_S}{\\lambda_2} + R \\frac{A_{S}}{\\lambda_2} \\right)\n",
    "> $$\n",
    "> \n",
    "> Since $\\frac{B_S}{\\lambda_2} = \\tilde{B}_S$ and $\\frac{A_{S+1}}{\\lambda_2} = \\tilde{A}_{S}$, we can reach the initially desired equation:\n",
    "> \n",
    "> $$\n",
    "> x_{S - 1} = - x_S ( \\tilde{B}_S + R \\tilde{A}_{S})\n",
    "> $$\n",
    ">\n",
    "> &nbsp;"
   ]
  },
  {
   "cell_type": "markdown",
   "metadata": {},
   "source": [
    "--- "
   ]
  },
  {
   "cell_type": "markdown",
   "metadata": {},
   "source": [
    "3. **Expliciter par récurrence la suite de matrices $ (T_j, j = S - 1, \\dots, 0) $ telle que l’on ait**\n",
    "\n",
    "$$\n",
    "x_{j+1} = x_j T_j.\n",
    "$$\n"
   ]
  },
  {
   "cell_type": "markdown",
   "metadata": {},
   "source": [
    "> &nbsp;\n",
    ">\n",
    "> Since $j < S$, we are going to use the second balance equation to find the recurrence.\n",
    ">\n",
    "> $$\n",
    "> x_{j-1} (\\lambda_2 \\cdot Id) + x_{j} B_j + x_{j+1} A_{j+1} = 0 \n",
    "> $$\n",
    ">\n",
    "> Since $ x_{j+1} = x_j T_j$, we can replace it on the equation.\n",
    ">\n",
    "> $$\n",
    "> x_{j-1} (\\lambda_2 \\cdot Id) + x_{j} B_j + x_{j} T_j A_{j+1} = 0 \n",
    "> $$\n",
    "> \n",
    "> $$\n",
    "> x_{j-1} (\\lambda_2 \\cdot Id) + x_{j} ( B_j + T_j A_{j+1}) = 0 \n",
    "> $$\n",
    ">\n",
    "> Dividing everything by $\\lambda_2$:\n",
    ">\n",
    "> $$\n",
    "> x_{j-1} + x_{j} ( \\tilde{B}_j + T_j \\tilde{A}_{j+1}) = 0 \n",
    "> $$ \n",
    ">\n",
    "> $$\n",
    "> x_{j-1} = - x_{j} ( \\tilde{B}_j + T_j \\tilde{A}_{j+1}) \n",
    "> $$ \n",
    "> $$\n",
    "> x_{j} = - x_{j-1} ( \\tilde{B}_j + T_j \\tilde{A}_{j+1})^{-1} \n",
    "> $$\n",
    ">\n",
    "> With that, we can state that $x_{j} = - x_{j-1} T_{j-1}$, with the followind recurrence being followed:\n",
    ">\n",
    "> $$ T_{j-1} = - ( \\tilde{B}_j + T_j \\tilde{A}_{j+1})^{-1} $$\n",
    ">\n",
    "> &nbsp;"
   ]
  },
  {
   "cell_type": "markdown",
   "metadata": {},
   "source": [
    "---"
   ]
  },
  {
   "cell_type": "markdown",
   "metadata": {},
   "source": [
    "\n",
    "4. **Montrer enfin que l’on a**\n",
    "\n",
    "$$\n",
    "x_0 ((M - \\lambda_2 I) + T_0 A_1) = 0.\n",
    "$$\n",
    "\n",
    "où $ \\tilde{M} = \\frac{M}{\\lambda_2} $.\n"
   ]
  },
  {
   "cell_type": "markdown",
   "metadata": {},
   "source": [
    "> &nbsp;\n",
    ">\n",
    "> Observing the balance equation for $j < S$, with $j=0$, we have:\n",
    ">\n",
    "> $$ \n",
    "> x_0 (M - \\lambda_2 I) + x_1 A_1 = 0 \n",
    "> $$\n",
    ">\n",
    "> Since $x_{j+1} = x_{j}T_j$, $x_{1} = x_{0}T_0$:\n",
    "> \n",
    "> $$ \n",
    "> x_0 (M - \\lambda_2 I) + x_0 T_0 A_1 = 0\n",
    "> $$\n",
    "> \n",
    "> $$ \n",
    "> x_0 ((M - \\lambda_2 I) + T_0 A_1) = 0 \n",
    "> $$\n",
    ">\n",
    "> The previous equation is already the one we aimed to obtain, but if we want to express it in terms of $\\tilde{M}$ and $\\tilde{A}$, we just need to divide everything by $\\lambda_2$.  \n",
    "> \n",
    "> $$ \n",
    "> x_0 ((\\tilde{M} - I) + T_0 \\tilde{A}_1) = 0 \n",
    "> $$\n",
    ">\n",
    "> &nbsp;"
   ]
  },
  {
   "cell_type": "markdown",
   "metadata": {},
   "source": [
    "---"
   ]
  },
  {
   "cell_type": "markdown",
   "metadata": {},
   "source": [
    "\n",
    "5. **Expliquer comment on calcule $ x_S $.**\n"
   ]
  },
  {
   "cell_type": "markdown",
   "metadata": {},
   "source": [
    "> &nbsp;\n",
    ">\n",
    "> To find $ x_S $, we start from the balance equation at $ j = 0 $, $x_0 ( (\\tilde{M} - I) + T_0 \\tilde{A}_1) = 0$. This equation tells us that $x_0$ lies in the null space of:\n",
    "> \n",
    "> $$\n",
    "> (\\tilde{M} - I) + T_0 \\tilde{A}_1\n",
    "> $$\n",
    "> \n",
    "> Once $ x_0 $ is found (using SVD), the subsequent vectors up to $ x_S $ are computed recursively using the pre calculated matrices $T_j$ and the following relation:\n",
    "> \n",
    "> $$\n",
    "> x_{j+1} = x_{j} T_{j}\n",
    "> \\quad \\text{for} \\quad 0 \\leq j < S\n",
    "> $$\n",
    "> \n",
    "> Therefore:\n",
    "> \n",
    "> $$\n",
    "> x_S = x_0 (T_0 \\cdot T_1 \\cdots T_{S-1})\n",
    "> $$\n",
    "> \n",
    "> In summary, we can state that $x_S $ is obtained by multiplying $ x_0 $ successively by all $ T_j $ matrices from $ j = 0 $ to $ j = S-1 $.\n",
    ">\n",
    "> &nbsp;\n"
   ]
  },
  {
   "cell_type": "markdown",
   "metadata": {},
   "source": [
    "---"
   ]
  },
  {
   "cell_type": "markdown",
   "metadata": {},
   "source": [
    "\n",
    "6. **Retrouver la Figure 2 de [1] pour $ S = 5 $.**"
   ]
  },
  {
   "cell_type": "markdown",
   "metadata": {},
   "source": [
    "> &nbsp;\n",
    ">\n",
    "> To allow the reconstruction of the figure we aregoing to use the `MMSSQueueAnalyzer` class defined below. It models and analyzes M/M/S/S queueing systems with two types of customers, building the transition matrices, computing the necessary auxiliary matrices and finally finding the stationary distribution of the system.\n",
    "> \n",
    "> The expected waiting time for type-2 customers is calculated through the method `calculate_EWQ`. It aggregates three key contributions: \n",
    "> \n",
    "> - the number of type-2 customers already present in the system,\n",
    "> - the expected time spent being served, obtained via matrix inversion of the rate matrix $R$,\n",
    "> - the expected number of customers waiting ahead in the queue. \n",
    "> \n",
    "> These components together represent the complete behavior of the system under stationary conditions and are normalized by the type-2 customer arrival rate $\\lambda_2$ to yield the final expected waiting time.\n",
    ">\n",
    "> The computation of this expected time uses the equation of the article, which states:\n",
    ">\n",
    "> $$\n",
    "> \\text{EQ}_2 = \\sum_{j=1}^{S-1} x_j e + S\\, x_S (I - R)^{-1} e + x_S (I - R)^{-2} e\n",
    "> $$\n",
    ">\n",
    "> &nbsp;\n"
   ]
  },
  {
   "cell_type": "code",
   "execution_count": 267,
   "metadata": {},
   "outputs": [],
   "source": [
    "class MMSSQueueAnalyzer:\n",
    "    \n",
    "    def __init__(self, mu_1, lambda_1, mu_2, lambda_2, servers):\n",
    "\n",
    "        self.mu_1 = mu_1\n",
    "        self.lambda_1 = lambda_1\n",
    "        self.mu_2 = mu_2\n",
    "        self.lambda_2 = lambda_2\n",
    "        self.S = servers \n",
    "        self.dim = servers + 1  # Dimension of the system (0 to S)\n",
    "        \n",
    "        # Initialize matrices to store intermediate results\n",
    "        self.transition_matrix = None   # The infinitesimal generator matrix M\n",
    "        self.a_matrices =  np.zeros((S + 1, S + 1, S + 1))          # Service rate matrices A_j\n",
    "        self.b_matrices =  np.zeros_like(self.a_matrices)           # Combined rate matrices B_j\n",
    "        self.R = np.zeros((self.dim, self.dim))                   # Matrix R\n",
    "        self.t_matrices = np.zeros_like(self.a_matrices)          # Matrices T_j\n",
    "        self.t_inv_matrices = np.zeros_like(self.a_matrices)           # Inverse matrices T_j\n",
    "        self.stationary_dist = np.zeros((self.dim, self.dim))     # Final stationary distribution pi\n",
    "\n",
    "\n",
    "    def setup(self): \n",
    "        self.build_transition_matrix()\n",
    "        self.build_auxiliary_matrices()\n",
    "        self.compute_R()\n",
    "        self.compute_t_matrices()\n",
    "\n",
    "    def solve_svd( self, matrix):\n",
    "\n",
    "        return np.linalg.svd(matrix)\n",
    "    \n",
    "    def build_transition_matrix(self):\n",
    "        \"\"\"\n",
    "        Constructs the transition rate matrix M for the M/M/S/S system.\n",
    "        \"\"\"\n",
    "        # Upper diagonal: arrival transitions\n",
    "        upper = np.diag([self.lambda_1] * self.S, k=1)\n",
    "        \n",
    "        # Main diagonal: total outflow rates\n",
    "        main_diag = - np.concatenate([\n",
    "                        self.lambda_1 + self.mu_1 * np.arange(self.S),  # States 0 to S-1\n",
    "                        [self.S * self.mu_1]  # State S (all servers busy)\n",
    "                      ])\n",
    "        \n",
    "        # Subdiagonal: service completion transitions\n",
    "        lower = np.diag(self.mu_1 * np.arange(1, self.S + 1), k=-1)\n",
    "        \n",
    "        self.transition_matrix = upper + np.diag(main_diag) + lower\n",
    "    \n",
    "    def build_auxiliary_matrices(self):\n",
    "        \"\"\"\n",
    "        Constructs the auxiliary matrices A and B needed for the solution.\n",
    "        \"\"\"\n",
    "        for j in range(self.dim):\n",
    "            # A[j] = diag(min(S -j, n) * µ₂)\n",
    "            self.a_matrices[j] = np.diag(np.array([min(j, self.S - i) * self.mu_2 for i in range(self.dim)]))\n",
    "            \n",
    "            # B[j] = M - (min(S -j, n) + λ₂) * I\n",
    "            self.b_matrices[j] = (self.transition_matrix - \n",
    "                                  np.diag(np.array([min(j, self.S - i) * self.mu_2 for i in range(self.dim)]) + self.lambda_2))\n",
    "    \n",
    "    def compute_t_matrices(self):\n",
    "        \"\"\"\n",
    "        Computes the T matrices used in the solution.\n",
    "        \"\"\"\n",
    "        A_ = self.a_matrices / self.lambda_2\n",
    "        B_ = self.b_matrices / self.lambda_2\n",
    "        \n",
    "        self.t_matrices[self.S] = - B_[self.S] - self.R @ A_[self.S]\n",
    "        \n",
    "        for i in range(self.S - 1, -1, -1):\n",
    "            self.t_inv_matrices[i+1] = np.linalg.inv(self.t_matrices[i+1])\n",
    "            self.t_matrices[i] = - B_[i] - self.t_inv_matrices[i+1] @ A_[i+1]\n",
    "    \n",
    "    def compute_R(self, max_iterations=50):\n",
    "        \"\"\"\n",
    "        Computes the rate matrix R using iterative numerical methods.\n",
    "        \n",
    "        Args: \n",
    "        max_iterations: Maximum number of iterations for convergence.  By default, 50.\n",
    "        \"\"\"\n",
    "            \n",
    "        # Normalize matrices by λ₂ for numerical stability\n",
    "        A_ = self.a_matrices[self.S] / self.lambda_2\n",
    "        B_ = self.b_matrices[self.S] / self.lambda_2\n",
    "        \n",
    "        R = np.zeros((self.dim, self.dim))\n",
    "        \n",
    "        # Iteratively solve for R\n",
    "        for i in range(max_iterations):\n",
    "\n",
    "            R = - (np.eye(self.dim) + self.R @ self.R @ A_) @ np.linalg.inv(B_)\n",
    "            if np.isnan(self.R).any() or np.isinf(self.R).any():\n",
    "                raise ValueError(f\"R exploded at iteration {i}\")\n",
    "            \n",
    "            if np.linalg.norm(self.R - R, ord='fro') < 1e-8:\n",
    "                break\n",
    "\n",
    "            self.R = R   \n",
    "    \n",
    "    def solve_stationary_distribution(self, tol=1e-12):\n",
    "        \"\"\"\n",
    "        Solves for the stationary distribution π of the system.\n",
    "        \n",
    "        Args: \n",
    "        tol: Tolerance for null space calculation\n",
    "        \"\"\"\n",
    "            \n",
    "        # Normalize matrix M by λ₂ \n",
    "        M_ = self.transition_matrix / self.lambda_2\n",
    "        \n",
    "        # Solve boundary equations\n",
    "        aux = M_ - np.eye(self.dim) + self.t_matrices[0] @ (self.a_matrices[1]/self.lambda_2)\n",
    "\n",
    "        # Get singular vector corresponding to smallest singular value\n",
    "        x0 = np.linalg.svd(aux)[2]\n",
    "        self.stationary_dist[:, 0] = x0[-1]/np.sum(x0[-1])\n",
    "        \n",
    "        # Compute all remaining columns of the stationary distribution matrix\n",
    "        for i in range(1, self.dim):\n",
    "            self.stationary_dist[:, i] = self.stationary_dist[:, i-1] @ self.t_inv_matrices[i]\n",
    "\n",
    "        self.stationary_dist /= np.sum(self.stationary_dist, axis=0)\n",
    "\n",
    "    def calculate_EWQ(self):\n",
    "        \"\"\"\n",
    "        Computes expexted waiting time for customers type 2 following the theoretical formula:\n",
    "        \n",
    "        EW_Q = sum_{j=1}^{S-1} x_j * e + S * x_S * (I - R)^{-1} * e + x_S * (I - R)^{-2} * e\n",
    "        \"\"\"\n",
    "\n",
    "        # changing variables names to match the formula \n",
    "        e = np.ones(self.dim)\n",
    "        x = self.stationary_dist  \n",
    "\n",
    "        Id_minus_R_inv = np.linalg.inv(np.eye(self.dim) - self.R)\n",
    "\n",
    "        #  term 1: Sum over phases j = 1 to S-1 ---\n",
    "        term1 = 0\n",
    "        for j in range(1, self.S):  \n",
    "            term1 += x[:, j] @ e    \n",
    "\n",
    "        # term 2: Contribution from phase S \n",
    "        term2 = self.S * (x[:, self.S] @ (Id_minus_R_inv @ e))\n",
    "\n",
    "        # term 3: System behavior when fully occupied (higher order\n",
    "        term3 = x[:, self.S] @ (Id_minus_R_inv @ Id_minus_R_inv @ e)\n",
    "\n",
    "        # Final expected value EQ2\n",
    "        EQ2 = (term1 + term2 + term3)\n",
    "\n",
    "        # Normalize by arrival rate λ2\n",
    "        return EQ2 / self.lambda_2\n"
   ]
  },
  {
   "cell_type": "markdown",
   "metadata": {},
   "source": [
    "> &nbsp;\n",
    ">\n",
    "> Now, we are going to test with the same parameters provided at the article and plot the result.\n",
    ">\n",
    "> &nbsp;"
   ]
  },
  {
   "cell_type": "code",
   "execution_count": 268,
   "metadata": {},
   "outputs": [],
   "source": [
    "# System parameters\n",
    "S = 5\n",
    "mu_1 = 4\n",
    "mu_2 = 20\n",
    "lambda_2 = 8 \n",
    "\n",
    "# Range of lambda_1 values to test\n",
    "lambdas_1 = np.linspace(0, 60, 30)\n",
    "avg_times = []\n",
    "\n",
    "for l1 in lambdas_1:\n",
    "    # Create analyzer instance\n",
    "    analyzer = MMSSQueueAnalyzer(mu_1, l1, mu_2, lambda_2, S)\n",
    "    \n",
    "    # Setup the system (transition matrix, auxiliary matrices, etc.)\n",
    "    analyzer.setup()\n",
    "\n",
    "    # Solve for stationary distribution\n",
    "    analyzer.solve_stationary_distribution()\n",
    "    \n",
    "    # Get last column of pi (π_S)\n",
    "    pi_S = analyzer.stationary_dist[:, -1]\n",
    "\n",
    "    # Calculate expected waiting time for type-2 customers\n",
    "    avg_times.append(analyzer.calculate_EWQ())\n",
    "\n"
   ]
  },
  {
   "cell_type": "code",
   "execution_count": 269,
   "metadata": {},
   "outputs": [
    {
     "name": "stdout",
     "output_type": "stream",
     "text": [
      "S = 5,\n",
      "mu_1 = 4,\n",
      "mu_2 = 20,\n",
      "lambda_2 = 8\n"
     ]
    },
    {
     "data": {
      "image/png": "[encoded data removed]",
      "text/plain": [
       "<Figure size 640x480 with 1 Axes>"
      ]
     },
     "metadata": {},
     "output_type": "display_data"
    }
   ],
   "source": [
    "# Plot results\n",
    "print(f'{S = },\\n{mu_1 = },\\n{mu_2 = },\\n{lambda_2 = }')\n",
    "plt.plot(lambdas_1, avg_times)\n",
    "plt.scatter(lambdas_1, avg_times)\n",
    "plt.title(\"Average waiting time of type-2 clients ($\\\\lambda_2 = 8$)\")\n",
    "plt.xlabel(\"$\\\\lambda_1$ (arrival rate of type-1 clients)\")\n",
    "plt.ylabel(\"$E_{q_2}$\")\n",
    "plt.grid(True)\n",
    "plt.show()"
   ]
  },
  {
   "cell_type": "markdown",
   "metadata": {},
   "source": [
    "## 6. Canaux de garde\n",
    "\n",
    "Comme il est difficile d’implémenter la politique préemptive, on se contente souvent d’un système de canaux de garde. Les arrivées de classe 1 occupent un serveur tant qu’il y a un de libre et ne peuvent être mis dans la salle d’attente. En d’autres termes, si tous les serveurs sont pris, éventuellement en partie par des clients de classe 2, les clients de classe 1 qui arrivent sont perdus.\n",
    "\n",
    "Les clients de classe 2 ne peuvent entrer dans les serveurs que s’il y a au moins $ G $ serveurs libres (avec $ G $ à déterminer mais généralement très petit devant $ S $). Cette règle s’applique à leur arrivée ou au moment où un serveur se libère.\n",
    "\n",
    "### Partie 5\n",
    "\n",
    "1. **Pourquoi est-ce que le processus $ (Q_1, Q_2) $ défini précédemment n’est plus un processus de Markov représentant ce système ?**\n"
   ]
  },
  {
   "cell_type": "markdown",
   "metadata": {},
   "source": [
    "> &nbsp;\n",
    ">\n",
    "> In the system above, class 2 clients can only be served if there are $G$ free servers, meaning the state transitions depend on a past condition about the servers, not only on $(Q_1, Q_2)$. For example, if there are $Q_1$ class 1 clients being served, the amount of servers available to serve class 2 clients is dynamic and cannot be deduced only from $(Q_1, Q_2)$ - which does not follow Markovian process properties.\n",
    ">\n",
    "> &nbsp;"
   ]
  },
  {
   "cell_type": "markdown",
   "metadata": {},
   "source": [
    "\n",
    "2. **Représenter la dynamique de ce système par un processus de Markov dont on précisera le générateur infinitésimal.**\n"
   ]
  },
  {
   "cell_type": "markdown",
   "metadata": {},
   "source": [
    "> &nbsp;\n",
    ">\n",
    "> We need to include adicional information about the servers state, thus we can define new states $X_1, X_2$, $B$ where:\n",
    "> - $X_1$ is the number of type 1 clients being served \n",
    "> - $X_2$ is the number of type 2 clients being served   \n",
    "> - $B$ is the number of type 2 clients in the buffer  \n",
    "> The possible transitions are:\n",
    "> - $X_1 \\rightarrow X_1+1$  \n",
    "> Type 1 client arrives with rate $\\lambda_1$ if there are available servers ($X_1+X_2 < S$)\n",
    "> - $X_1 \\rightarrow X_1-1$  \n",
    "> Type 1 client leaves with rate $X_1\\mu_1$ unconditionally\n",
    "> - $X_2 \\rightarrow X_2+1$  \n",
    "> Type 2 client is served right away - with rate $\\lambda_2$- if the buffer is empty ($B = 0$)\n",
    "> - $X_2 \\rightarrow X_2-1$  \n",
    "> Type 2 client leaves  with rate $X_2\\mu_2$ if the buffer is empty. Otherwise, it would only be \"replaced\" by another type 2 client from the buffer.\n",
    "> - $B \\rightarrow B+1$  \n",
    "> Type 2 client arrives if there are not $G$ available servers ($S - (X_1+X_2) < G$)  \n",
    "> - $B \\rightarrow B-1$  \n",
    "> Type 2 client is served from the buffer if there are at least $G$ available servers $(S - (X_1+X_2) \\geq G) \\text{ and } B > 0$ \n",
    "> \n",
    "> &nbsp;"
   ]
  },
  {
   "cell_type": "markdown",
   "metadata": {},
   "source": [
    "\n",
    "3. **Sans faire de calculs, est-ce que la condition de stabilité est plus ou moins contraignante sur $ \\rho_2 $ que dans le premier modèle ?**\n"
   ]
  },
  {
   "cell_type": "markdown",
   "metadata": {},
   "source": [
    "> &nbsp;\n",
    "> \n",
    "> The stability condition is more restrictive on $ \\rho_2 $ for the guard channel model than for the preemptive model. In the preemptive priority system, class 1 customers can always preempt a server even if all the servers are already occupied serving class 2 customers. Thus class 1 customers are never delayed, and class 2 customers can be served by any server that is not busy at the time with class 1 customers. There is no long-term reservation of servers for class 1; the system allocates servers dynamically based on demand and priority. Thus, class 2 customers have access to the full server capacity when class 1 demand is low, and the only restriction on $ \\rho_2 $ comes from the overall system resource average usage. \n",
    ">\n",
    "> In comparison, the guard channel model has a strict constraint: class 2 customers may use servers only when at least $ G $ servers are free, meaning that some portion of the servers is effectively reserved for potential class 1 arrivals at all times. Class 2 customers cannot use those servers even if class 1 customers are not present. Then, the maximum number of servers to be used by class 2 is permanently reduced to $ S - G $, and this decreases their effective service capacity. So to be stable and not to have an overload of class 2 customers, the arrival rate $ \\lambda_2 $ relative to the service rate $ \\mu_2 $ must be lower than in the preemptive model. This makes the stability condition in the guard channel model more constraining on $ \\rho_2 $, since class 2 customers are subject to a more limiting access policy that does not allow them to use some of the resources even if they are available.\n",
    "> \n",
    "> In summary, as class 2 clients have less access to servers in the guard channel model due to the reservation policy, the system can sustain a smaller load from class 2 clients. Thus, the stability condition on $ \\rho_2 $ is more restrictive than in the preemptive model.\n",
    ">\n",
    "> &nbsp;"
   ]
  }
 ],
 "metadata": {
  "kernelspec": {
   "display_name": "Python 3",
   "language": "python",
   "name": "python3"
  },
  "language_info": {
   "codemirror_mode": {
    "name": "ipython",
    "version": 3
   },
   "file_extension": ".py",
   "mimetype": "text/x-python",
   "name": "python",
   "nbconvert_exporter": "python",
   "pygments_lexer": "ipython3",
   "version": "3.11.5"
  }
 },
 "nbformat": 4,
 "nbformat_minor": 2
}
